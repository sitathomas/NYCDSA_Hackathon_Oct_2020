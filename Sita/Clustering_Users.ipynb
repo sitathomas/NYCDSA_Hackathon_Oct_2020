{
 "cells": [
  {
   "cell_type": "markdown",
   "metadata": {},
   "source": [
    "## Setup and Import"
   ]
  },
  {
   "cell_type": "code",
   "execution_count": 1,
   "metadata": {},
   "outputs": [],
   "source": [
    "import pandas as pd\n",
    "pd.set_option('display.max_columns', None)\n",
    "\n",
    "import numpy as np\n",
    "\n",
    "from sklearn.preprocessing import MinMaxScaler\n",
    "from sklearn.impute import KNNImputer\n",
    "from sklearn.model_selection import train_test_split\n",
    "from sklearn.cluster import KMeans\n",
    "from sklearn.metrics import silhouette_score\n",
    "\n",
    "from joblib import dump, load\n",
    "\n",
    "import matplotlib.pyplot as plt\n",
    "%matplotlib inline\n",
    "plt.style.use('dark_background')"
   ]
  },
  {
   "cell_type": "code",
   "execution_count": 2,
   "metadata": {},
   "outputs": [],
   "source": [
    "churn = pd.read_csv('../data/trunc_churn.csv')\n",
    "members = pd.read_csv('../data/trunc_members.csv')\n",
    "transactions = pd.read_csv('../data/trunc_transaction.csv')\n",
    "users = pd.read_csv('../data/trunc_users.csv')\n",
    "\n",
    "merged_df = churn.merge(members, on='msno'\n",
    "         ).merge(transactions, on='msno'\n",
    "         ).merge(users, on='msno').set_index('msno')"
   ]
  },
  {
   "cell_type": "code",
   "execution_count": 3,
   "metadata": {},
   "outputs": [
    {
     "name": "stdout",
     "output_type": "stream",
     "text": [
      "(20000, 2)\n",
      "(17660, 6)\n",
      "(23588, 9)\n",
      "(277101, 9)\n",
      "(335947, 22)\n"
     ]
    }
   ],
   "source": [
    "print(churn.shape)        # 20,000 users\n",
    "print(members.shape)      # 17,600 users\n",
    "print(transactions.shape) # 19,216 users, each line is a transaction\n",
    "print(users.shape)        # 15,457 users, each line is a listening session\n",
    "print(merged_df.shape)           # 148,48 users, each line varies"
   ]
  },
  {
   "cell_type": "markdown",
   "metadata": {},
   "source": [
    "## Imputation"
   ]
  },
  {
   "cell_type": "code",
   "execution_count": 4,
   "metadata": {},
   "outputs": [],
   "source": [
    "# convert missing/junk ages to 0\n",
    "merged_df.loc[merged_df.bd <= 0, 'bd'] = np.nan\n",
    "merged_df.loc[merged_df.bd > 100, 'bd'] = np.nan"
   ]
  },
  {
   "cell_type": "code",
   "execution_count": 5,
   "metadata": {},
   "outputs": [],
   "source": [
    "# numerically encode gender\n",
    "merged_df.loc[merged_df.gender == 'female', 'gender'] = 1\n",
    "merged_df.loc[merged_df.gender == 'male', 'gender'] = 0\n",
    "\n",
    "# convert dtype from object to float for imputer\n",
    "merged_df.gender = merged_df.gender.astype(float)"
   ]
  },
  {
   "cell_type": "code",
   "execution_count": 6,
   "metadata": {},
   "outputs": [],
   "source": [
    "merged_df = merged_df.rename(columns={'gender': 'is_female',\n",
    "                        'bd': 'age',\n",
    "                        'date': 'listen_date'})"
   ]
  },
  {
   "cell_type": "code",
   "execution_count": 7,
   "metadata": {},
   "outputs": [],
   "source": [
    "# group merged_df by user for imputing user age and gender\n",
    "df = merged_df.groupby('msno').mean()\n",
    "\n",
    "# KNN is distance-based so data must be temporarily scaled\n",
    "scaler = MinMaxScaler()\n",
    "scaler_fitted = scaler.fit(df)\n",
    "scaled_merged_df = pd.DataFrame(scaler_fitted.transform(df),\n",
    "                         index=df.index, columns=df.columns)"
   ]
  },
  {
   "cell_type": "code",
   "execution_count": 8,
   "metadata": {},
   "outputs": [],
   "source": [
    "# # impute scaled user-grouped df\n",
    "# imputer = KNNImputer(n_neighbors=round(np.sqrt(len(merged_df))))\n",
    "# imputed_array = imputer.fit_transform(scaled_merged_df)\n",
    "# dump(imputed_array, '../data/imputed_array.pkl')\n",
    "\n",
    "# undo scaling\n",
    "imputed_array = load('../data/imputed_array.pkl')\n",
    "inverse_array = scaler_fitted.inverse_transform(imputed_array)\n",
    "imputed_merged_df = \\\n",
    "    pd.DataFrame(inverse_array,\n",
    "                 index=df.index, columns=df.columns)"
   ]
  },
  {
   "cell_type": "code",
   "execution_count": 9,
   "metadata": {},
   "outputs": [],
   "source": [
    "# classify predictions as female or male using 50% threshold\n",
    "imputed_merged_df.loc[imputed_merged_df.is_female >= 0.5, 'is_female'] = 1\n",
    "imputed_merged_df.loc[imputed_merged_df.is_female < 0.5, 'is_female'] = 0"
   ]
  },
  {
   "cell_type": "code",
   "execution_count": 10,
   "metadata": {},
   "outputs": [],
   "source": [
    "# convert age from float to int\n",
    "imputed_merged_df.age = imputed_merged_df.age.apply(lambda x: round(x))"
   ]
  },
  {
   "cell_type": "code",
   "execution_count": 11,
   "metadata": {},
   "outputs": [],
   "source": [
    "# merge imputed columns\n",
    "merged_df = merged_df.drop(['age', 'is_female'], axis=1\n",
    "       ).merge(imputed_merged_df[['age', 'is_female']],\n",
    "         how='left', left_index=True, right_index=True)"
   ]
  },
  {
   "cell_type": "markdown",
   "metadata": {},
   "source": [
    "## Pre-Processing"
   ]
  },
  {
   "cell_type": "code",
   "execution_count": 12,
   "metadata": {},
   "outputs": [],
   "source": [
    "date_cols = ['registration_init_time', 'transaction_date',\n",
    "             'membership_expire_date', 'listen_date']\n",
    "\n",
    "# change date cols to datetime dtype\n",
    "for col in date_cols:\n",
    "    merged_df[col] = pd.to_datetime(merged_df[col], format='%Y%m%d')"
   ]
  },
  {
   "cell_type": "code",
   "execution_count": 13,
   "metadata": {},
   "outputs": [],
   "source": [
    "categorical_cols = ['city', 'registered_via', 'payment_method_id']\n",
    "bool_cols = ['is_churn', 'is_auto_renew', 'is_cancel']\n",
    "\n",
    "# change numeric cols that represent categorical data to object dtype\n",
    "for col in categorical_cols + bool_cols:\n",
    "    merged_df[col] = merged_df[col].astype(str)"
   ]
  },
  {
   "cell_type": "markdown",
   "metadata": {},
   "source": [
    "## Dataframe by User"
   ]
  },
  {
   "cell_type": "markdown",
   "metadata": {},
   "source": [
    "### Pre-processing:\n",
    "- Includes 4 engineered features to sub for date cols when grouping by user:\n",
    "    - num_transactions: sub for transaction_date\n",
    "    - num_sessions: sub for listen_date\n",
    "    - membership_duration: sub for registration_init_time\n",
    "    - days_to_expiration: sub for membership_expire_date"
   ]
  },
  {
   "cell_type": "code",
   "execution_count": 14,
   "metadata": {},
   "outputs": [],
   "source": [
    "transactions = transactions.set_index('msno')\n",
    "merged_df['num_transactions'] = \\\n",
    "    transactions.groupby('msno').transaction_date.count()\n",
    "merged_df.num_transactions.fillna('0', inplace=True)"
   ]
  },
  {
   "cell_type": "code",
   "execution_count": 15,
   "metadata": {},
   "outputs": [],
   "source": [
    "users = users.set_index('msno')\n",
    "merged_df['num_sessions'] = \\\n",
    "    users.groupby('msno').date.count()\n",
    "merged_df.num_sessions.fillna('0', inplace=True)"
   ]
  },
  {
   "cell_type": "code",
   "execution_count": 16,
   "metadata": {},
   "outputs": [],
   "source": [
    "merged_df['membership_duration'] = \\\n",
    "    (merged_df.membership_expire_date - merged_df.registration_init_time\n",
    "    ).astype('timedelta64[D]')"
   ]
  },
  {
   "cell_type": "code",
   "execution_count": 17,
   "metadata": {
    "scrolled": true
   },
   "outputs": [],
   "source": [
    "merged_df['days_to_expiration'] = \\\n",
    "    (merged_df.membership_expire_date - merged_df.transaction_date\n",
    "    ).astype('timedelta64[D]')"
   ]
  },
  {
   "cell_type": "markdown",
   "metadata": {},
   "source": [
    "### Groupby MSNO"
   ]
  },
  {
   "cell_type": "code",
   "execution_count": 18,
   "metadata": {},
   "outputs": [],
   "source": [
    "df = merged_df.groupby('msno').mean()\n",
    "\n",
    "single_value_cols = \\\n",
    "    merged_df[categorical_cols + bool_cols].groupby('msno').max()\n",
    "\n",
    "df = df.merge(single_value_cols, how='left',\n",
    "              left_index=True, right_index=True);"
   ]
  },
  {
   "cell_type": "code",
   "execution_count": 19,
   "metadata": {},
   "outputs": [],
   "source": [
    "df.payment_plan_days = round(df.payment_plan_days)"
   ]
  },
  {
   "cell_type": "code",
   "execution_count": 20,
   "metadata": {},
   "outputs": [],
   "source": [
    "df.rename(columns={\n",
    "    'payment_plan_days' : 'payment_plan_days_per_transaction_avg',\n",
    "    'plan_list_price'   : 'plan_list_price_per_transaction_avg',\n",
    "    'actual_amount_paid': 'actual_amount_paid_per_transaction_avg',\n",
    "    'num_25' : 'num_25_per_session_avg',\n",
    "    'num_50' : 'num_50_per_session_avg',\n",
    "    'num_75' : 'num_75_per_session_avg',\n",
    "    'num_985': 'num_985_per_session_avg',\n",
    "    'num_100': 'num_100_per_session_avg',\n",
    "    'num_unq': 'num_unq_per_session_avg',\n",
    "    'total_secs': 'total_secs_per_session'}, inplace=True);"
   ]
  },
  {
   "cell_type": "markdown",
   "metadata": {},
   "source": [
    "## K-Means Clustering"
   ]
  },
  {
   "cell_type": "code",
   "execution_count": 21,
   "metadata": {},
   "outputs": [],
   "source": [
    "scaler = MinMaxScaler()\n",
    "scaled_df = scaler.fit_transform(df)\n",
    "scaled_df = pd.DataFrame(scaler_fitted.transform(df),\n",
    "                         index=df.index, columns=df.columns)"
   ]
  },
  {
   "cell_type": "code",
   "execution_count": 22,
   "metadata": {
    "scrolled": false
   },
   "outputs": [
    {
     "name": "stdout",
     "output_type": "stream",
     "text": [
      "For 2 clusters, the average silhouette score is: 0.8118762891290716\n",
      "For 3 clusters, the average silhouette score is: 0.5253224225118569\n",
      "For 4 clusters, the average silhouette score is: 0.46352776134167983\n",
      "For 5 clusters, the average silhouette score is: 0.4681968461753771\n",
      "For 6 clusters, the average silhouette score is: 0.387209922236065\n",
      "For 7 clusters, the average silhouette score is: 0.33071572237592395\n",
      "For 8 clusters, the average silhouette score is: 0.3361678974374727\n",
      "For 9 clusters, the average silhouette score is: 0.29815112985747355\n",
      "For 10 clusters, the average silhouette score is: 0.2777226389148211\n"
     ]
    },
    {
     "data": {
      "image/png": "[encoded data removed]",
      "text/plain": [
       "<Figure size 432x288 with 1 Axes>"
      ]
     },
     "metadata": {},
     "output_type": "display_data"
    }
   ],
   "source": [
    "# clustering with baseline features\n",
    "\n",
    "wcss = []\n",
    "# scores = []\n",
    "for k in np.arange(1,11):\n",
    "#     kmeans = KMeans(n_clusters=k, init=\"k-means++\").fit(scaled_df)\n",
    "#     dump(kmeans, f'../data/{k}_means_cluster.pkl')\n",
    "    kmeans = load(f'../data/{k}_means_cluster.pkl')\n",
    "    wcss.append(kmeans.inertia_)\n",
    "#     if k >= 2:\n",
    "#         scores.append([silhouette_score(\n",
    "#             scaled_df, kmeans.predict(scaled_df), random_state=0), k])\n",
    "\n",
    "# dump(scores, '../data/k_means_cluster_scores.pkl')\n",
    "\n",
    "scores = load('../data/k_means_cluster_scores.pkl')\n",
    "\n",
    "for score in scores:\n",
    "    print(f'For {score[1]} clusters,',\n",
    "          f'the average silhouette score is: {score[0]}')\n",
    "\n",
    "plt.plot(np.arange(1,11), wcss, linewidth=2, marker='8')\n",
    "plt.xticks(np.arange(1,11))\n",
    "plt.xlabel('Number of Clusters')\n",
    "plt.ylabel('Within-Cluster Sum of Squares')\n",
    "plt.show()"
   ]
  }
 ],
 "metadata": {
  "kernelspec": {
   "display_name": "Python 3",
   "language": "python",
   "name": "python3"
  },
  "language_info": {
   "codemirror_mode": {
    "name": "ipython",
    "version": 3
   },
   "file_extension": ".py",
   "mimetype": "text/x-python",
   "name": "python",
   "nbconvert_exporter": "python",
   "pygments_lexer": "ipython3",
   "version": "3.7.6"
  },
  "toc": {
   "base_numbering": 1,
   "nav_menu": {},
   "number_sections": true,
   "sideBar": true,
   "skip_h1_title": true,
   "title_cell": "Table of Contents",
   "title_sidebar": "Contents",
   "toc_cell": false,
   "toc_position": {
    "height": "calc(100% - 180px)",
    "left": "10px",
    "top": "150px",
    "width": "165px"
   },
   "toc_section_display": true,
   "toc_window_display": true
  }
 },
 "nbformat": 4,
 "nbformat_minor": 4
}
