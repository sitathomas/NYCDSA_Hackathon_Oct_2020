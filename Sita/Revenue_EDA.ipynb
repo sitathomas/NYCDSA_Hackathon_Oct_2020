{
 "cells": [
  {
   "cell_type": "markdown",
   "metadata": {},
   "source": [
    "## Setup and Import"
   ]
  },
  {
   "cell_type": "code",
   "execution_count": 1,
   "metadata": {},
   "outputs": [],
   "source": [
    "import pandas as pd\n",
    "pd.set_option('display.max_columns', None)\n",
    "\n",
    "import numpy as np\n",
    "\n",
    "from sklearn.preprocessing import MinMaxScaler\n",
    "from sklearn.impute import KNNImputer\n",
    "from sklearn.model_selection import train_test_split\n",
    "from sklearn.cluster import KMeans\n",
    "from sklearn.metrics import silhouette_score\n",
    "\n",
    "from joblib import dump, load\n",
    "\n",
    "import plotly.express as px\n",
    "\n",
    "import seaborn as sns\n",
    "\n",
    "import matplotlib.pyplot as plt\n",
    "%matplotlib inline\n",
    "plt.style.use('dark_background')"
   ]
  },
  {
   "cell_type": "code",
   "execution_count": 2,
   "metadata": {},
   "outputs": [],
   "source": [
    "churn = pd.read_csv('../data/trunc_churn.csv')\n",
    "members = pd.read_csv('../data/trunc_members.csv')\n",
    "transactions = pd.read_csv('../data/trunc_transaction.csv')\n",
    "users = pd.read_csv('../data/trunc_users.csv')\n",
    "\n",
    "merged_df = churn.merge(members, on='msno'\n",
    "         ).merge(transactions, on='msno'\n",
    "         ).merge(users, on='msno').set_index('msno')"
   ]
  },
  {
   "cell_type": "code",
   "execution_count": 3,
   "metadata": {},
   "outputs": [
    {
     "name": "stdout",
     "output_type": "stream",
     "text": [
      "(20000, 2)\n",
      "(17660, 6)\n",
      "(23588, 9)\n",
      "(277101, 9)\n",
      "(335947, 22)\n"
     ]
    }
   ],
   "source": [
    "print(churn.shape)        # 20,000 users\n",
    "print(members.shape)      # 17,600 users\n",
    "print(transactions.shape) # 19,216 users, each line is a transaction\n",
    "print(users.shape)        # 15,457 users, each line is a listening session\n",
    "print(merged_df.shape)    # 148,48 users, each line varies"
   ]
  },
  {
   "cell_type": "markdown",
   "metadata": {},
   "source": [
    "## Imputation"
   ]
  },
  {
   "cell_type": "code",
   "execution_count": 4,
   "metadata": {},
   "outputs": [],
   "source": [
    "# convert missing/junk ages to 0\n",
    "merged_df.loc[merged_df.bd <= 0, 'bd'] = np.nan\n",
    "merged_df.loc[merged_df.bd > 100, 'bd'] = np.nan"
   ]
  },
  {
   "cell_type": "code",
   "execution_count": 5,
   "metadata": {},
   "outputs": [],
   "source": [
    "# numerically encode gender\n",
    "merged_df.loc[merged_df.gender == 'female', 'gender'] = 1\n",
    "merged_df.loc[merged_df.gender == 'male', 'gender'] = 0\n",
    "\n",
    "# convert dtype from object to float for imputer\n",
    "merged_df.gender = merged_df.gender.astype(float)"
   ]
  },
  {
   "cell_type": "code",
   "execution_count": 6,
   "metadata": {},
   "outputs": [],
   "source": [
    "merged_df = merged_df.rename(columns={'gender': 'is_female',\n",
    "                        'bd': 'age',\n",
    "                        'date': 'listen_date'})"
   ]
  },
  {
   "cell_type": "code",
   "execution_count": 7,
   "metadata": {},
   "outputs": [],
   "source": [
    "# group merged_df by user for imputing user age and gender\n",
    "df = merged_df.groupby('msno').mean()\n",
    "\n",
    "# KNN is distance-based so data must be temporarily scaled\n",
    "scaler = MinMaxScaler()\n",
    "scaler_fitted = scaler.fit(df)\n",
    "scaled_merged_df = pd.DataFrame(scaler_fitted.transform(df),\n",
    "                         index=df.index, columns=df.columns)"
   ]
  },
  {
   "cell_type": "code",
   "execution_count": 8,
   "metadata": {},
   "outputs": [],
   "source": [
    "# # impute scaled user-grouped df\n",
    "# imputer = KNNImputer(n_neighbors=round(np.sqrt(len(merged_df))))\n",
    "# imputed_array = imputer.fit_transform(scaled_merged_df)\n",
    "# dump(imputed_array, '../data/imputed_array.pkl')\n",
    "\n",
    "# undo scaling\n",
    "imputed_array = load('../data/imputed_array.pkl')\n",
    "inverse_array = scaler_fitted.inverse_transform(imputed_array)\n",
    "imputed_merged_df = \\\n",
    "    pd.DataFrame(inverse_array,\n",
    "                 index=df.index, columns=df.columns)"
   ]
  },
  {
   "cell_type": "code",
   "execution_count": 9,
   "metadata": {},
   "outputs": [],
   "source": [
    "# classify predictions as female or male using 50% threshold\n",
    "imputed_merged_df.loc[imputed_merged_df.is_female >= 0.5, 'is_female'] = 1\n",
    "imputed_merged_df.loc[imputed_merged_df.is_female < 0.5, 'is_female'] = 0"
   ]
  },
  {
   "cell_type": "code",
   "execution_count": 10,
   "metadata": {},
   "outputs": [],
   "source": [
    "# convert age from float to int\n",
    "imputed_merged_df.age = imputed_merged_df.age.apply(lambda x: round(x))"
   ]
  },
  {
   "cell_type": "code",
   "execution_count": 11,
   "metadata": {},
   "outputs": [],
   "source": [
    "# merge imputed columns\n",
    "merged_df = merged_df.drop(['age', 'is_female'], axis=1\n",
    "       ).merge(imputed_merged_df[['age', 'is_female']],\n",
    "         how='left', left_index=True, right_index=True)"
   ]
  },
  {
   "cell_type": "markdown",
   "metadata": {},
   "source": [
    "## Pre-Processing"
   ]
  },
  {
   "cell_type": "code",
   "execution_count": 12,
   "metadata": {},
   "outputs": [],
   "source": [
    "date_cols = ['registration_init_time', 'transaction_date',\n",
    "             'membership_expire_date', 'listen_date']\n",
    "\n",
    "# change date cols to datetime dtype\n",
    "for col in date_cols:\n",
    "    merged_df[col] = pd.to_datetime(merged_df[col], format='%Y%m%d')"
   ]
  },
  {
   "cell_type": "code",
   "execution_count": 13,
   "metadata": {},
   "outputs": [],
   "source": [
    "categorical_cols = ['city', 'registered_via', 'payment_method_id']\n",
    "bool_cols = ['is_churn', 'is_female', 'is_auto_renew', 'is_cancel']\n",
    "\n",
    "# change numeric cols that represent categorical data to object dtype\n",
    "for col in categorical_cols + bool_cols:\n",
    "    merged_df[col] = merged_df[col].astype(str)"
   ]
  },
  {
   "cell_type": "markdown",
   "metadata": {},
   "source": [
    "## Dataframe by User"
   ]
  },
  {
   "cell_type": "markdown",
   "metadata": {},
   "source": [
    "### Pre-processing:\n",
    "- Includes 4 engineered features to sub for date cols when grouping by user:\n",
    "    - num_transactions: sub for transaction_date\n",
    "    - num_sessions: sub for listen_date\n",
    "    - membership_duration: sub for registration_init_time\n",
    "    - days_to_expiration: sub for membership_expire_date"
   ]
  },
  {
   "cell_type": "code",
   "execution_count": 14,
   "metadata": {},
   "outputs": [],
   "source": [
    "transactions = pd.read_csv('../data/trunc_transaction.csv', index_col='msno')\n",
    "merged_df['num_transactions'] = \\\n",
    "    transactions.groupby('msno').transaction_date.count()\n",
    "merged_df.num_transactions.fillna('0', inplace=True)"
   ]
  },
  {
   "cell_type": "code",
   "execution_count": 15,
   "metadata": {},
   "outputs": [],
   "source": [
    "users = pd.read_csv('../data/trunc_users.csv', index_col='msno')\n",
    "merged_df['num_sessions'] = \\\n",
    "    users.groupby('msno').date.count()\n",
    "merged_df.num_sessions.fillna('0', inplace=True)"
   ]
  },
  {
   "cell_type": "code",
   "execution_count": 16,
   "metadata": {},
   "outputs": [],
   "source": [
    "merged_df['membership_duration'] = \\\n",
    "    (merged_df.membership_expire_date - merged_df.registration_init_time\n",
    "    ).astype('timedelta64[D]')"
   ]
  },
  {
   "cell_type": "code",
   "execution_count": 17,
   "metadata": {
    "scrolled": true
   },
   "outputs": [],
   "source": [
    "merged_df['days_to_expiration'] = \\\n",
    "    (merged_df.membership_expire_date - merged_df.transaction_date\n",
    "    ).astype('timedelta64[D]')"
   ]
  },
  {
   "cell_type": "markdown",
   "metadata": {},
   "source": [
    "### Groupby MSNO"
   ]
  },
  {
   "cell_type": "code",
   "execution_count": 18,
   "metadata": {},
   "outputs": [],
   "source": [
    "# this groupby takes a while\n",
    "\n",
    "# by_msno = merged_df.groupby('msno').mean()\n",
    "\n",
    "# single_value_cols = \\\n",
    "#     merged_df[categorical_cols + bool_cols].groupby('msno').max()\n",
    "\n",
    "# by_msno = by_msno.merge(single_value_cols, how='left',\n",
    "#                         left_index=True, right_index=True);\n",
    "\n",
    "# dump(by_msno, '../data/by_msno.pkl')"
   ]
  },
  {
   "cell_type": "code",
   "execution_count": 19,
   "metadata": {},
   "outputs": [],
   "source": [
    "by_msno = load('../data/by_msno.pkl')"
   ]
  },
  {
   "cell_type": "code",
   "execution_count": 20,
   "metadata": {},
   "outputs": [],
   "source": [
    "by_msno.payment_plan_days = round(by_msno.payment_plan_days)"
   ]
  },
  {
   "cell_type": "code",
   "execution_count": 21,
   "metadata": {},
   "outputs": [],
   "source": [
    "by_msno.rename(columns={\n",
    "    'payment_plan_days' : 'payment_plan_days_per_transaction_avg',\n",
    "    'plan_list_price'   : 'plan_list_price_per_transaction_avg',\n",
    "    'actual_amount_paid': 'actual_amount_paid_per_transaction_avg',\n",
    "    'num_25' : 'num_25_per_session_avg',\n",
    "    'num_50' : 'num_50_per_session_avg',\n",
    "    'num_75' : 'num_75_per_session_avg',\n",
    "    'num_985': 'num_985_per_session_avg',\n",
    "    'num_100': 'num_100_per_session_avg',\n",
    "    'num_unq': 'num_unq_per_session_avg',\n",
    "    'total_secs': 'total_secs_per_session'}, inplace=True);"
   ]
  },
  {
   "cell_type": "markdown",
   "metadata": {},
   "source": [
    "## 30-Day Plans Subset"
   ]
  },
  {
   "cell_type": "code",
   "execution_count": 22,
   "metadata": {},
   "outputs": [
    {
     "name": "stdout",
     "output_type": "stream",
     "text": [
      "97 percent of users are on 30-day plans\n",
      " 3 percent of users are on other plans\n"
     ]
    }
   ],
   "source": [
    "# most users are on 30-day plans\n",
    "print(round(\n",
    "    by_msno.payment_plan_days_per_transaction_avg.value_counts().values[0]\n",
    "    / len(by_msno) * 100), 'percent of users are on 30-day plans')\n",
    "print('', round(\n",
    "    by_msno.payment_plan_days_per_transaction_avg.value_counts().iloc[1:,\n",
    "    ].sum() / len(by_msno) * 100), 'percent of users are on other plans')\n",
    "\n",
    "# drop all other plans from df\n",
    "subset = by_msno.loc[by_msno.payment_plan_days_per_transaction_avg == 30]"
   ]
  },
  {
   "cell_type": "code",
   "execution_count": 23,
   "metadata": {
    "scrolled": false
   },
   "outputs": [
    {
     "name": "stdout",
     "output_type": "stream",
     "text": [
      "49 percent of users pay $149\n",
      "31 percent of users pay $99\n",
      "11 percent of users pay $180\n",
      "4 percent of users pay $129\n",
      "3 percent of users pay $100\n",
      "0 percent of users pay $150\n"
     ]
    }
   ],
   "source": [
    "# 98% of users have only one of 5 payment plans\n",
    "price_values = subset.plan_list_price_per_transaction_avg.value_counts()\n",
    "prices = subset.plan_list_price_per_transaction_avg.value_counts().index\n",
    "\n",
    "for i in np.arange(0, 6):\n",
    "    print(round(price_values.iloc[i] / len(subset) * 100),\n",
    "          f'percent of users pay ${round(prices[i])}')\n",
    "    \n",
    "# drop all other plans from df\n",
    "subset = subset.loc[subset.plan_list_price_per_transaction_avg.isin(prices[:5])]"
   ]
  },
  {
   "cell_type": "markdown",
   "metadata": {},
   "source": [
    "### Groupby Plans"
   ]
  },
  {
   "cell_type": "code",
   "execution_count": 24,
   "metadata": {},
   "outputs": [],
   "source": [
    "# set bool cols to int to get percentages for plans df\n",
    "subset[bool_cols] = subset[bool_cols].astype(float).astype(int)\n",
    "\n",
    "plans = subset.groupby('plan_list_price_per_transaction_avg').mean()"
   ]
  },
  {
   "cell_type": "code",
   "execution_count": 25,
   "metadata": {},
   "outputs": [],
   "source": [
    "# add cols left out of groupby_mean to plans df\n",
    "mode_cols = subset.columns.difference(plans.columns).to_list()\n",
    "mode_df = subset.groupby('plan_list_price_per_transaction_avg'\n",
    "                        )[mode_cols].agg(lambda x: x.value_counts().index[0])\n",
    "plans = plans.merge(mode_df, left_index=True, right_index=True)"
   ]
  },
  {
   "cell_type": "code",
   "execution_count": 26,
   "metadata": {
    "scrolled": true
   },
   "outputs": [],
   "source": [
    "plans.index.name = 'plan_list_price'\n",
    "plans.rename(columns={\n",
    "    'age' : 'user_age_avg',\n",
    "    'num_transactions'   : 'num_transactions_avg',\n",
    "    'num_sessions': 'num_sessions_avg',\n",
    "    'membership_duration' : 'membership_duration_avg',\n",
    "    'days_to_expiration' : 'days_to_expiration_avg',\n",
    "    'city' : 'city_mode',\n",
    "    'is_auto_renew': 'is_auto_renew_percent',\n",
    "    'is_cancel': 'is_cancel_percent',\n",
    "    'is_churn': 'is_churn_percent',\n",
    "    'is_female': 'is_female_percent',\n",
    "    'payment_method_id': 'payment_method_id_mode',\n",
    "    'registered_via': 'registered_via_mode'}, inplace=True)\n",
    "\n",
    "plans.drop(['payment_plan_days_per_transaction_avg',\n",
    "            'actual_amount_paid_per_transaction_avg',\n",
    "            'plan_list_price_per_transaction_avg'],\n",
    "           axis=1, inplace=True)"
   ]
  },
  {
   "cell_type": "markdown",
   "metadata": {},
   "source": [
    "### Feature Engineering"
   ]
  },
  {
   "cell_type": "code",
   "execution_count": 27,
   "metadata": {},
   "outputs": [],
   "source": [
    "# add number of users per plan\n",
    "plans['num_users'] = \\\n",
    "    subset.reset_index().groupby(['plan_list_price_per_transaction_avg']\n",
    "                                ).msno.count()"
   ]
  },
  {
   "cell_type": "markdown",
   "metadata": {},
   "source": [
    "#### Revenue by Churn"
   ]
  },
  {
   "cell_type": "code",
   "execution_count": 28,
   "metadata": {
    "scrolled": false
   },
   "outputs": [
    {
     "name": "stdout",
     "output_type": "stream",
     "text": [
      "Gross annual revenue:\n",
      " plan_list_price\n",
      "99.0      5346000.0\n",
      "100.0      571200.0\n",
      "129.0      859140.0\n",
      "149.0    12667980.0\n",
      "180.0     3447360.0\n",
      "dtype: float64 \n",
      "\n",
      "Annual revenue lost to churn:\n",
      " plan_list_price\n",
      "99.0     125928.0\n",
      "100.0      6000.0\n",
      "129.0     44892.0\n",
      "149.0    584676.0\n",
      "180.0    254880.0\n",
      "dtype: float64 \n",
      "\n",
      "Net annual revenue:\n",
      " plan_list_price\n",
      "99.0      5220072.0\n",
      "100.0      565200.0\n",
      "129.0      814248.0\n",
      "149.0    12083304.0\n",
      "180.0     3192480.0\n",
      "dtype: float64\n"
     ]
    }
   ],
   "source": [
    "# annual revenue per plan\n",
    "annual_revenue_amount = (plans.index * 12) * plans.num_users\n",
    "print('Gross annual revenue:\\n', annual_revenue_amount, '\\n')\n",
    "\n",
    "# amount of annual revenue lost to churn per plan\n",
    "is_churn_amount = annual_revenue_amount * plans.is_churn_percent\n",
    "print('Annual revenue lost to churn:\\n', is_churn_amount, '\\n')\n",
    "\n",
    "# annual revenue by plan minus revenue lost due to churn\n",
    "revenue_minus_churn_amount = \\\n",
    "    annual_revenue_amount * (1 - plans.is_churn_percent)\n",
    "print('Net annual revenue:\\n', revenue_minus_churn_amount)"
   ]
  },
  {
   "cell_type": "code",
   "execution_count": 29,
   "metadata": {
    "scrolled": true
   },
   "outputs": [
    {
     "data": {
      "text/plain": [
       "plan_list_price\n",
       "99.0     0.233535\n",
       "100.0    0.024952\n",
       "129.0    0.037531\n",
       "149.0    0.553388\n",
       "180.0    0.150594\n",
       "Name: gross_annual_revenue_percent, dtype: float64"
      ]
     },
     "execution_count": 29,
     "metadata": {},
     "output_type": "execute_result"
    }
   ],
   "source": [
    "# percent gross annual revenue per plan\n",
    "plans['gross_annual_revenue_percent'] = \\\n",
    "    annual_revenue_amount / annual_revenue_amount.sum()\n",
    "plans['gross_annual_revenue_percent']"
   ]
  },
  {
   "cell_type": "code",
   "execution_count": 30,
   "metadata": {},
   "outputs": [
    {
     "data": {
      "text/plain": [
       "plan_list_price\n",
       "99.0     0.228034\n",
       "100.0    0.024690\n",
       "129.0    0.035570\n",
       "149.0    0.527847\n",
       "180.0    0.139460\n",
       "Name: net_annual_revenue_percent, dtype: float64"
      ]
     },
     "execution_count": 30,
     "metadata": {},
     "output_type": "execute_result"
    }
   ],
   "source": [
    "# percent net annual revenue per plan: gross minus churn\n",
    "plans['net_annual_revenue_percent'] = \\\n",
    "    plans.gross_annual_revenue_percent * (1 - plans.is_churn_percent)\n",
    "plans['net_annual_revenue_percent']"
   ]
  },
  {
   "cell_type": "markdown",
   "metadata": {},
   "source": [
    "##### Plots"
   ]
  },
  {
   "cell_type": "code",
   "execution_count": 31,
   "metadata": {},
   "outputs": [
    {
     "data": {
      "image/png": "[encoded data removed]",
      "text/plain": [
       "<Figure size 432x288 with 1 Axes>"
      ]
     },
     "metadata": {},
     "output_type": "display_data"
    }
   ],
   "source": [
    "plans.is_churn_percent.plot(kind='bar', title='Percent of Churn Per Plan',\n",
    "                            grid=True);"
   ]
  },
  {
   "cell_type": "code",
   "execution_count": 32,
   "metadata": {},
   "outputs": [
    {
     "data": {
      "image/png": "[encoded data removed]",
      "text/plain": [
       "<Figure size 864x432 with 1 Axes>"
      ]
     },
     "metadata": {},
     "output_type": "display_data"
    }
   ],
   "source": [
    "plans[['gross_annual_revenue_percent', 'net_annual_revenue_percent'\n",
    "      ]].plot(title='% Annual Share of Gross and Net Revenue Per Plan',\n",
    "              kind='bar', figsize=(12, 6), grid=True,\n",
    "              yticks=np.arange(0, 0.625, 0.05));"
   ]
  }
 ],
 "metadata": {
  "kernelspec": {
   "display_name": "Python 3",
   "language": "python",
   "name": "python3"
  },
  "language_info": {
   "codemirror_mode": {
    "name": "ipython",
    "version": 3
   },
   "file_extension": ".py",
   "mimetype": "text/x-python",
   "name": "python",
   "nbconvert_exporter": "python",
   "pygments_lexer": "ipython3",
   "version": "3.7.6"
  },
  "toc": {
   "base_numbering": 1,
   "nav_menu": {},
   "number_sections": true,
   "sideBar": true,
   "skip_h1_title": true,
   "title_cell": "Table of Contents",
   "title_sidebar": "Contents",
   "toc_cell": false,
   "toc_position": {
    "height": "calc(100% - 180px)",
    "left": "10px",
    "top": "150px",
    "width": "165px"
   },
   "toc_section_display": true,
   "toc_window_display": true
  }
 },
 "nbformat": 4,
 "nbformat_minor": 4
}
