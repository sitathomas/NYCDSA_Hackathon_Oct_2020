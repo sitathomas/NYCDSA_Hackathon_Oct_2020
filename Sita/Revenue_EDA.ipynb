{
 "cells": [
  {
   "cell_type": "markdown",
   "metadata": {},
   "source": [
    "## Setup and Import"
   ]
  },
  {
   "cell_type": "code",
   "execution_count": 1,
   "metadata": {},
   "outputs": [],
   "source": [
    "import pandas as pd\n",
    "pd.set_option('display.max_columns', None)\n",
    "\n",
    "import numpy as np\n",
    "\n",
    "from sklearn.preprocessing import MinMaxScaler\n",
    "from sklearn.impute import KNNImputer\n",
    "from sklearn.model_selection import train_test_split\n",
    "from sklearn.cluster import KMeans\n",
    "from sklearn.metrics import silhouette_score\n",
    "\n",
    "from joblib import dump, load\n",
    "\n",
    "import plotly.express as px\n",
    "\n",
    "import seaborn as sns\n",
    "\n",
    "import matplotlib.pyplot as plt\n",
    "%matplotlib inline\n",
    "plt.style.use('ggplot')"
   ]
  },
  {
   "cell_type": "code",
   "execution_count": 2,
   "metadata": {},
   "outputs": [],
   "source": [
    "churn = pd.read_csv('../data/trunc_churn.csv')\n",
    "members = pd.read_csv('../data/trunc_members.csv')\n",
    "transactions = pd.read_csv('../data/trunc_transaction.csv')\n",
    "users = pd.read_csv('../data/trunc_users.csv')\n",
    "\n",
    "merged_df = churn.merge(members, on='msno'\n",
    "         ).merge(transactions, on='msno'\n",
    "         ).merge(users, on='msno').set_index('msno')"
   ]
  },
  {
   "cell_type": "code",
   "execution_count": 3,
   "metadata": {},
   "outputs": [
    {
     "name": "stdout",
     "output_type": "stream",
     "text": [
      "(20000, 2)\n",
      "(17660, 6)\n",
      "(23588, 9)\n",
      "(277101, 9)\n",
      "(335947, 22)\n"
     ]
    }
   ],
   "source": [
    "print(churn.shape)        # 20,000 users\n",
    "print(members.shape)      # 17,600 users\n",
    "print(transactions.shape) # 19,216 users, each line is a transaction\n",
    "print(users.shape)        # 15,457 users, each line is a listening session\n",
    "print(merged_df.shape)    # 148,48 users, each line varies"
   ]
  },
  {
   "cell_type": "markdown",
   "metadata": {},
   "source": [
    "## Imputation"
   ]
  },
  {
   "cell_type": "code",
   "execution_count": 4,
   "metadata": {},
   "outputs": [],
   "source": [
    "# convert missing/junk ages to 0\n",
    "merged_df.loc[merged_df.bd <= 0, 'bd'] = np.nan\n",
    "merged_df.loc[merged_df.bd > 100, 'bd'] = np.nan"
   ]
  },
  {
   "cell_type": "code",
   "execution_count": 5,
   "metadata": {},
   "outputs": [],
   "source": [
    "# numerically encode gender\n",
    "merged_df.loc[merged_df.gender == 'female', 'gender'] = 1\n",
    "merged_df.loc[merged_df.gender == 'male', 'gender'] = 0\n",
    "\n",
    "# convert dtype from object to float for imputer\n",
    "merged_df.gender = merged_df.gender.astype(float)"
   ]
  },
  {
   "cell_type": "code",
   "execution_count": 6,
   "metadata": {},
   "outputs": [],
   "source": [
    "merged_df = merged_df.rename(columns={'gender': 'is_female',\n",
    "                        'bd': 'age',\n",
    "                        'date': 'listen_date'})"
   ]
  },
  {
   "cell_type": "code",
   "execution_count": 7,
   "metadata": {},
   "outputs": [],
   "source": [
    "# group merged_df by user for imputing user age and gender\n",
    "df = merged_df.groupby('msno').mean()\n",
    "\n",
    "# KNN is distance-based so data must be temporarily scaled\n",
    "scaler = MinMaxScaler()\n",
    "scaler_fitted = scaler.fit(df)\n",
    "scaled_merged_df = pd.DataFrame(scaler_fitted.transform(df),\n",
    "                         index=df.index, columns=df.columns)"
   ]
  },
  {
   "cell_type": "code",
   "execution_count": 8,
   "metadata": {},
   "outputs": [],
   "source": [
    "# # impute scaled user-grouped df\n",
    "# imputer = KNNImputer(n_neighbors=round(np.sqrt(len(merged_df))))\n",
    "# imputed_array = imputer.fit_transform(scaled_merged_df)\n",
    "# dump(imputed_array, '../data/imputed_array.pkl')\n",
    "\n",
    "# undo scaling\n",
    "imputed_array = load('../data/imputed_array.pkl')\n",
    "inverse_array = scaler_fitted.inverse_transform(imputed_array)\n",
    "imputed_merged_df = \\\n",
    "    pd.DataFrame(inverse_array,\n",
    "                 index=df.index, columns=df.columns)"
   ]
  },
  {
   "cell_type": "code",
   "execution_count": 9,
   "metadata": {},
   "outputs": [],
   "source": [
    "# classify predictions as female or male using 50% threshold\n",
    "imputed_merged_df.loc[imputed_merged_df.is_female >= 0.5, 'is_female'] = 1\n",
    "imputed_merged_df.loc[imputed_merged_df.is_female < 0.5, 'is_female'] = 0"
   ]
  },
  {
   "cell_type": "code",
   "execution_count": 10,
   "metadata": {},
   "outputs": [],
   "source": [
    "# convert age from float to int\n",
    "imputed_merged_df.age = imputed_merged_df.age.apply(lambda x: round(x))"
   ]
  },
  {
   "cell_type": "code",
   "execution_count": 11,
   "metadata": {},
   "outputs": [],
   "source": [
    "# merge imputed columns\n",
    "merged_df = merged_df.drop(['age', 'is_female'], axis=1\n",
    "       ).merge(imputed_merged_df[['age', 'is_female']],\n",
    "         how='left', left_index=True, right_index=True)"
   ]
  },
  {
   "cell_type": "markdown",
   "metadata": {},
   "source": [
    "## Pre-Processing"
   ]
  },
  {
   "cell_type": "code",
   "execution_count": 12,
   "metadata": {},
   "outputs": [],
   "source": [
    "date_cols = ['registration_init_time', 'transaction_date',\n",
    "             'membership_expire_date', 'listen_date']\n",
    "\n",
    "# change date cols to datetime dtype\n",
    "for col in date_cols:\n",
    "    merged_df[col] = pd.to_datetime(merged_df[col], format='%Y%m%d')"
   ]
  },
  {
   "cell_type": "code",
   "execution_count": 13,
   "metadata": {},
   "outputs": [],
   "source": [
    "categorical_cols = ['city', 'registered_via', 'payment_method_id']\n",
    "bool_cols = ['is_churn', 'is_female', 'is_auto_renew', 'is_cancel']\n",
    "\n",
    "# change numeric cols that represent categorical data to object dtype\n",
    "for col in categorical_cols + bool_cols:\n",
    "    merged_df[col] = merged_df[col].astype(str)"
   ]
  },
  {
   "cell_type": "markdown",
   "metadata": {},
   "source": [
    "## Dataframe by User"
   ]
  },
  {
   "cell_type": "markdown",
   "metadata": {},
   "source": [
    "### Pre-processing:\n",
    "- Includes 4 engineered features to sub for date cols when grouping by user:\n",
    "    - num_transactions: sub for transaction_date\n",
    "    - num_sessions: sub for listen_date\n",
    "    - membership_duration: sub for registration_init_time\n",
    "    - days_to_expiration: sub for membership_expire_date"
   ]
  },
  {
   "cell_type": "code",
   "execution_count": 14,
   "metadata": {},
   "outputs": [],
   "source": [
    "transactions = pd.read_csv('../data/trunc_transaction.csv', index_col='msno')\n",
    "merged_df['num_transactions'] = \\\n",
    "    transactions.groupby('msno').transaction_date.count()\n",
    "merged_df.num_transactions.fillna('0', inplace=True)"
   ]
  },
  {
   "cell_type": "code",
   "execution_count": 15,
   "metadata": {},
   "outputs": [],
   "source": [
    "users = pd.read_csv('../data/trunc_users.csv', index_col='msno')\n",
    "merged_df['num_sessions'] = \\\n",
    "    users.groupby('msno').date.count()\n",
    "merged_df.num_sessions.fillna('0', inplace=True)"
   ]
  },
  {
   "cell_type": "code",
   "execution_count": 16,
   "metadata": {},
   "outputs": [],
   "source": [
    "# comes from most recent transaction?\n",
    "# makes the assumption that membership is continuous\n",
    "merged_df['membership_duration'] = \\\n",
    "    (merged_df.membership_expire_date - merged_df.registration_init_time\n",
    "    ).astype('timedelta64[D]')"
   ]
  },
  {
   "cell_type": "code",
   "execution_count": 17,
   "metadata": {
    "scrolled": true
   },
   "outputs": [],
   "source": [
    "merged_df['days_to_expiration'] = \\\n",
    "    (merged_df.membership_expire_date - merged_df.transaction_date\n",
    "    ).astype('timedelta64[D]')"
   ]
  },
  {
   "cell_type": "markdown",
   "metadata": {},
   "source": [
    "### Groupby MSNO"
   ]
  },
  {
   "cell_type": "code",
   "execution_count": 18,
   "metadata": {},
   "outputs": [],
   "source": [
    "# this groupby takes a while\n",
    "\n",
    "# by_msno = merged_df.groupby('msno').mean()\n",
    "\n",
    "# single_value_cols = \\\n",
    "#     merged_df[categorical_cols + bool_cols].groupby('msno').max()\n",
    "\n",
    "# by_msno = by_msno.merge(single_value_cols, how='left',\n",
    "#                         left_index=True, right_index=True);\n",
    "\n",
    "# dump(by_msno, '../data/by_msno.pkl')"
   ]
  },
  {
   "cell_type": "code",
   "execution_count": 19,
   "metadata": {},
   "outputs": [],
   "source": [
    "by_msno = load('../data/by_msno.pkl')"
   ]
  },
  {
   "cell_type": "code",
   "execution_count": 20,
   "metadata": {},
   "outputs": [],
   "source": [
    "by_msno.payment_plan_days = round(by_msno.payment_plan_days)"
   ]
  },
  {
   "cell_type": "code",
   "execution_count": 21,
   "metadata": {},
   "outputs": [],
   "source": [
    "by_msno.rename(columns={\n",
    "    'payment_plan_days' : 'payment_plan_days_per_transaction_avg',\n",
    "    'plan_list_price'   : 'plan_list_price_per_transaction_avg',\n",
    "    'actual_amount_paid': 'actual_amount_paid_per_transaction_avg',\n",
    "    'num_25' : 'num_25_per_session_avg',\n",
    "    'num_50' : 'num_50_per_session_avg',\n",
    "    'num_75' : 'num_75_per_session_avg',\n",
    "    'num_985': 'num_985_per_session_avg',\n",
    "    'num_100': 'num_100_per_session_avg',\n",
    "    'num_unq': 'num_unq_per_session_avg',\n",
    "    'total_secs': 'total_secs_per_session'}, inplace=True);"
   ]
  },
  {
   "cell_type": "markdown",
   "metadata": {},
   "source": [
    "### 30-Day Plans Subset"
   ]
  },
  {
   "cell_type": "code",
   "execution_count": 22,
   "metadata": {},
   "outputs": [
    {
     "name": "stdout",
     "output_type": "stream",
     "text": [
      "97 percent of users are on 30-day plans\n",
      " 3 percent of users are on other plans\n"
     ]
    }
   ],
   "source": [
    "# most users are on 30-day plans\n",
    "print(round(\n",
    "    by_msno.payment_plan_days_per_transaction_avg.value_counts().values[0]\n",
    "    / len(by_msno) * 100), 'percent of users are on 30-day plans')\n",
    "print('', round(\n",
    "    by_msno.payment_plan_days_per_transaction_avg.value_counts().iloc[1:,\n",
    "    ].sum() / len(by_msno) * 100), 'percent of users are on other plans')\n",
    "\n",
    "# drop all other plans from df\n",
    "subset = by_msno.loc[by_msno.payment_plan_days_per_transaction_avg == 30]"
   ]
  },
  {
   "cell_type": "code",
   "execution_count": 23,
   "metadata": {},
   "outputs": [
    {
     "name": "stdout",
     "output_type": "stream",
     "text": [
      "89 percent of users are on auto-renew plans\n",
      " 9 percent of users do not have auto-renew\n"
     ]
    }
   ],
   "source": [
    "# most users are on auto-renew plans\n",
    "print(round(\n",
    "    subset.is_auto_renew.value_counts().values[0]\n",
    "    / len(by_msno) * 100), 'percent of users are on auto-renew plans')\n",
    "print('', round(\n",
    "    subset.is_auto_renew.value_counts().iloc[1:,].sum() / len(by_msno) * 100),\n",
    "    'percent of users do not have auto-renew')\n",
    "\n",
    "# drop all plans that don't auto-renew from df\n",
    "# subset = subset.loc[subset.is_auto_renew == '1']"
   ]
  },
  {
   "cell_type": "code",
   "execution_count": 24,
   "metadata": {
    "scrolled": false
   },
   "outputs": [
    {
     "name": "stdout",
     "output_type": "stream",
     "text": [
      "49 percent of users pay $149\n",
      "31 percent of users pay $99\n",
      "11 percent of users pay $180\n",
      "4 percent of users pay $129\n",
      "3 percent of users pay $100\n",
      "0 percent of users pay $150\n"
     ]
    }
   ],
   "source": [
    "# 98% of users with 30-day plans have only one of 5 payment plans\n",
    "price_values = subset.plan_list_price_per_transaction_avg.value_counts()\n",
    "prices = subset.plan_list_price_per_transaction_avg.value_counts().index\n",
    "\n",
    "for i in np.arange(0, 6):\n",
    "    print(round(price_values.iloc[i] / len(subset) * 100),\n",
    "          f'percent of users pay ${round(prices[i])}')\n",
    "    \n",
    "# drop all other plans from df\n",
    "subset = subset.loc[subset.plan_list_price_per_transaction_avg.isin(prices[:5])]"
   ]
  },
  {
   "cell_type": "code",
   "execution_count": 25,
   "metadata": {},
   "outputs": [],
   "source": [
    "# subset.to_csv('../data/by_msno.csv')"
   ]
  },
  {
   "cell_type": "code",
   "execution_count": 57,
   "metadata": {
    "scrolled": false
   },
   "outputs": [
    {
     "data": {
      "application/vnd.plotly.v1+json": {
       "config": {
        "plotlyServerURL": "https://plot.ly"
       },
       "data": [
        {
         "coloraxis": "coloraxis",
         "hovertemplate": "x: %{x}<br>y: %{y}<br>color: %{z}<extra></extra>",
         "type": "heatmap",
         "x": [
          "payment_plan_days_per_transaction_avg",
          "plan_list_price_per_transaction_avg",
          "actual_amount_paid_per_transaction_avg",
          "num_25_per_session_avg",
          "num_50_per_session_avg",
          "num_75_per_session_avg",
          "num_985_per_session_avg",
          "num_100_per_session_avg",
          "num_unq_per_session_avg",
          "total_secs_per_session",
          "age",
          "num_transactions",
          "num_sessions",
          "membership_duration",
          "days_to_expiration",
          "city",
          "registered_via",
          "payment_method_id",
          "is_churn",
          "is_female",
          "is_auto_renew",
          "is_cancel"
         ],
         "y": [
          "payment_plan_days_per_transaction_avg",
          "plan_list_price_per_transaction_avg",
          "actual_amount_paid_per_transaction_avg",
          "num_25_per_session_avg",
          "num_50_per_session_avg",
          "num_75_per_session_avg",
          "num_985_per_session_avg",
          "num_100_per_session_avg",
          "num_unq_per_session_avg",
          "total_secs_per_session",
          "age",
          "num_transactions",
          "num_sessions",
          "membership_duration",
          "days_to_expiration",
          "city",
          "registered_via",
          "payment_method_id",
          "is_churn",
          "is_female",
          "is_auto_renew",
          "is_cancel"
         ],
         "z": [
          [
           null,
           null,
           null,
           null,
           null,
           null,
           null,
           null,
           null,
           null,
           null,
           null,
           null,
           null,
           null,
           null,
           null,
           null,
           null,
           null,
           null,
           null
          ],
          [
           null,
           1,
           0.971418824546763,
           0.03621738124693506,
           0.062116213760628716,
           0.06537048520664064,
           0.06262958920409344,
           0.09663400314641134,
           0.11726428464794078,
           0.10416149947862419,
           -0.04083644143560558,
           0.10512142626809803,
           0.16875553006832847,
           0.3304386001459349,
           0.04655734832666756,
           0.42519036749116756,
           -0.12111338193835311,
           -0.5322652080379217,
           0.07844380368356205,
           0.13251485114440326,
           -0.3059897204520707,
           0.033596560836143596
          ],
          [
           null,
           0.971418824546763,
           1,
           0.0381657035048176,
           0.06321654195100943,
           0.06639318507728409,
           0.0606474742617637,
           0.0942377499695275,
           0.1164644378637234,
           0.10149427319998067,
           -0.0373025863767596,
           0.08153671472682768,
           0.16824220316050487,
           0.32840469006292733,
           0.05337049129773353,
           0.41495340427217237,
           -0.11023992143017289,
           -0.49878533320828533,
           0.05069860359945149,
           0.12994736378461355,
           -0.3056377283858414,
           0.010569959616538897
          ],
          [
           null,
           0.03621738124693506,
           0.0381657035048176,
           1,
           0.5324976157713547,
           0.5147212374993184,
           0.30517905054539884,
           0.06622293681906302,
           0.40245559659646873,
           0.10708757038623687,
           -0.10187035559804439,
           -0.012584981545731806,
           0.1733256281343273,
           -0.041542786523902545,
           -0.01406877306917768,
           0.010371868155051457,
           -0.02869478641776044,
           -0.026364052842129882,
           -0.006470234295720151,
           -0.020847677701345654,
           -0.09650079101450562,
           -0.010051809583666962
          ],
          [
           null,
           0.062116213760628716,
           0.06321654195100943,
           0.5324976157713547,
           1,
           0.7522861856265872,
           0.35868532918347,
           0.08667868044110377,
           0.32310334344105274,
           0.14234020832737276,
           -0.10846491032549714,
           -0.00034653125396455644,
           0.17038860699448122,
           -0.02211639168705083,
           -0.007921621626760534,
           0.04243761794841786,
           -0.03314452093526153,
           -0.052827901143736124,
           0.01294563096109048,
           -0.014959443547399028,
           -0.11630004339117275,
           -0.010106665879067549
          ],
          [
           null,
           0.06537048520664064,
           0.06639318507728409,
           0.5147212374993184,
           0.7522861856265872,
           1,
           0.4732062324982163,
           0.14694420355259713,
           0.34695957261059485,
           0.20680518234648884,
           -0.1034800165383713,
           -0.0009714972512274353,
           0.24184862774376012,
           -0.012970544217842928,
           -0.011062984407681867,
           0.046452963490191596,
           -0.02976783661149055,
           -0.06267808429510956,
           0.013670141637756855,
           -0.027168497887550776,
           -0.11266239423856789,
           0.0011939586473084407
          ],
          [
           null,
           0.06262958920409344,
           0.0606474742617637,
           0.30517905054539884,
           0.35868532918347,
           0.4732062324982163,
           1,
           0.1680774309921582,
           0.32744066210765244,
           0.23669717758593728,
           -0.06001983450636681,
           0.00652619784138586,
           0.20509926528216918,
           0.02676366950304095,
           -0.006606167851119479,
           0.05267787853543941,
           -0.005380404215399977,
           -0.05457381599310426,
           -2.984623738925191e-05,
           -0.016009192860715966,
           -0.07571731768233889,
           -0.0007992224850117426
          ],
          [
           null,
           0.09663400314641134,
           0.0942377499695275,
           0.06622293681906302,
           0.08667868044110377,
           0.14694420355259713,
           0.1680774309921582,
           1,
           0.7988598916538431,
           0.9822889047162587,
           0.0005258433800025565,
           0.020050263411860548,
           0.3704763718518623,
           0.06751656573910025,
           0.008695333253583579,
           0.10220194979903563,
           0.0016209159921163438,
           -0.08202121959795323,
           -0.008012660502429695,
           -0.016798433150035815,
           -0.0370204248321891,
           -0.010220495227344594
          ],
          [
           null,
           0.11726428464794078,
           0.1164644378637234,
           0.40245559659646873,
           0.32310334344105274,
           0.34695957261059485,
           0.32744066210765244,
           0.7988598916538431,
           1,
           0.8245437724089016,
           -0.06091165962420742,
           0.015490468428855006,
           0.38530417271847683,
           0.047971446733143394,
           0.003657180159234958,
           0.10766832434295906,
           -0.010508362276025836,
           -0.08646111299541728,
           -0.0081183058496191,
           -0.018932419610093416,
           -0.07844997513752547,
           -0.009699338631830501
          ],
          [
           null,
           0.10416149947862419,
           0.10149427319998067,
           0.10708757038623687,
           0.14234020832737276,
           0.20680518234648884,
           0.23669717758593728,
           0.9822889047162587,
           0.8245437724089016,
           1,
           -0.0033507299823615075,
           0.02097294668454728,
           0.3841467115655282,
           0.06874361371428334,
           0.0075105575369232664,
           0.10913285392853742,
           -0.00010590583396306555,
           -0.08950479369622664,
           -0.00696797137097848,
           -0.019048357352356785,
           -0.04584501054582929,
           -0.008842057150164544
          ],
          [
           null,
           -0.04083644143560558,
           -0.0373025863767596,
           -0.10187035559804439,
           -0.10846491032549714,
           -0.1034800165383713,
           -0.06001983450636681,
           0.0005258433800025565,
           -0.06091165962420742,
           -0.0033507299823615075,
           1,
           0.006515447727158735,
           -0.12235888663662237,
           0.27662656115086787,
           0.01582348568045821,
           0.005942886375448747,
           0.24195390369098474,
           -0.0032216867105533177,
           -0.03772306733797588,
           0.10164056685144547,
           0.2925819835745513,
           -0.0148025710105864
          ],
          [
           null,
           0.10512142626809803,
           0.08153671472682768,
           -0.012584981545731806,
           -0.00034653125396455644,
           -0.0009714972512274353,
           0.00652619784138586,
           0.020050263411860548,
           0.015490468428855006,
           0.02097294668454728,
           0.006515447727158735,
           1,
           0.01454785361816063,
           0.09972168267193227,
           0.807107046319203,
           0.09937453178163987,
           0.0022840400268108233,
           -0.02358383029525314,
           0.17715349357801993,
           0.042819050110790964,
           0.02908859566026197,
           0.11663445587809405
          ],
          [
           null,
           0.16875553006832847,
           0.16824220316050487,
           0.1733256281343273,
           0.17038860699448122,
           0.24184862774376012,
           0.20509926528216918,
           0.3704763718518623,
           0.38530417271847683,
           0.3841467115655282,
           -0.12235888663662237,
           0.01454785361816063,
           1,
           0.05046508766251889,
           0.019599582003574558,
           0.12405493649103243,
           -0.03745319692204632,
           -0.10506616640411975,
           -0.03159908981722768,
           0.010814947788446142,
           -0.13546825799989662,
           -0.08379783888321383
          ],
          [
           null,
           0.3304386001459349,
           0.32840469006292733,
           -0.041542786523902545,
           -0.02211639168705083,
           -0.012970544217842928,
           0.02676366950304095,
           0.06751656573910025,
           0.047971446733143394,
           0.06874361371428334,
           0.27662656115086787,
           0.09972168267193227,
           0.05046508766251889,
           1,
           0.06372135110254705,
           0.35556022733683385,
           0.38642042168417057,
           -0.27648550409782474,
           0.00026489886421481127,
           0.32523963415422247,
           0.08022975696388955,
           -0.020411830118217292
          ],
          [
           null,
           0.04655734832666756,
           0.05337049129773353,
           -0.01406877306917768,
           -0.007921621626760534,
           -0.011062984407681867,
           -0.006606167851119479,
           0.008695333253583579,
           0.003657180159234958,
           0.0075105575369232664,
           0.01582348568045821,
           0.807107046319203,
           0.019599582003574558,
           0.06372135110254705,
           1,
           0.02747480457597755,
           0.005758051796815878,
           0.027486175817247466,
           0.05917360454907931,
           0.04704476197270601,
           0.01213289826349281,
           -0.0896283870956033
          ],
          [
           null,
           0.42519036749116756,
           0.41495340427217237,
           0.010371868155051457,
           0.04243761794841786,
           0.046452963490191596,
           0.05267787853543941,
           0.10220194979903563,
           0.10766832434295906,
           0.10913285392853742,
           0.005942886375448747,
           0.09937453178163987,
           0.12405493649103243,
           0.35556022733683385,
           0.02747480457597755,
           1,
           0.002801049797674915,
           -0.32242959803507476,
           0.03397081434257403,
           0.1398870133069907,
           -0.05892480074438341,
           0.0192579908899872
          ],
          [
           null,
           -0.12111338193835311,
           -0.11023992143017289,
           -0.02869478641776044,
           -0.03314452093526153,
           -0.02976783661149055,
           -0.005380404215399977,
           0.0016209159921163438,
           -0.010508362276025836,
           -0.00010590583396306555,
           0.24195390369098474,
           0.0022840400268108233,
           -0.03745319692204632,
           0.38642042168417057,
           0.005758051796815878,
           0.002801049797674915,
           1,
           0.004178166022917392,
           -0.042585618540410555,
           0.05585484973486456,
           0.21302001065625067,
           -0.014969963017131415
          ],
          [
           null,
           -0.5322652080379217,
           -0.49878533320828533,
           -0.026364052842129882,
           -0.052827901143736124,
           -0.06267808429510956,
           -0.05457381599310426,
           -0.08202121959795323,
           -0.08646111299541728,
           -0.08950479369622664,
           -0.0032216867105533177,
           -0.02358383029525314,
           -0.10506616640411975,
           -0.27648550409782474,
           0.027486175817247466,
           -0.32242959803507476,
           0.004178166022917392,
           1,
           -0.03098299712555233,
           -0.016588945603273716,
           0.21393390657478065,
           -0.02081329521158808
          ],
          [
           null,
           0.07844380368356205,
           0.05069860359945149,
           -0.006470234295720151,
           0.01294563096109048,
           0.013670141637756855,
           -2.984623738925191e-05,
           -0.008012660502429695,
           -0.0081183058496191,
           -0.00696797137097848,
           -0.03772306733797588,
           0.17715349357801993,
           -0.03159908981722768,
           0.00026489886421481127,
           0.05917360454907931,
           0.03397081434257403,
           -0.042585618540410555,
           -0.03098299712555233,
           1,
           -0.011847827762653036,
           -0.12525131527549455,
           0.48407152279606985
          ],
          [
           null,
           0.13251485114440326,
           0.12994736378461355,
           -0.020847677701345654,
           -0.014959443547399028,
           -0.027168497887550776,
           -0.016009192860715966,
           -0.016798433150035815,
           -0.018932419610093416,
           -0.019048357352356785,
           0.10164056685144547,
           0.042819050110790964,
           0.010814947788446142,
           0.32523963415422247,
           0.04704476197270601,
           0.1398870133069907,
           0.05585484973486456,
           -0.016588945603273716,
           -0.011847827762653036,
           1,
           0.04233795249752668,
           -0.02200840906312745
          ],
          [
           null,
           -0.3059897204520707,
           -0.3056377283858414,
           -0.09650079101450562,
           -0.11630004339117275,
           -0.11266239423856789,
           -0.07571731768233889,
           -0.0370204248321891,
           -0.07844997513752547,
           -0.04584501054582929,
           0.2925819835745513,
           0.02908859566026197,
           -0.13546825799989662,
           0.08022975696388955,
           0.01213289826349281,
           -0.05892480074438341,
           0.21302001065625067,
           0.21393390657478065,
           -0.12525131527549455,
           0.04233795249752668,
           1,
           0.045311436201666326
          ],
          [
           null,
           0.033596560836143596,
           0.010569959616538897,
           -0.010051809583666962,
           -0.010106665879067549,
           0.0011939586473084407,
           -0.0007992224850117426,
           -0.010220495227344594,
           -0.009699338631830501,
           -0.008842057150164544,
           -0.0148025710105864,
           0.11663445587809405,
           -0.08379783888321383,
           -0.020411830118217292,
           -0.0896283870956033,
           0.0192579908899872,
           -0.014969963017131415,
           -0.02081329521158808,
           0.48407152279606985,
           -0.02200840906312745,
           0.045311436201666326,
           1
          ]
         ]
        }
       ],
       "layout": {
        "coloraxis": {
         "colorscale": [
          [
           0,
           "#0d0887"
          ],
          [
           0.1111111111111111,
           "#46039f"
          ],
          [
           0.2222222222222222,
           "#7201a8"
          ],
          [
           0.3333333333333333,
           "#9c179e"
          ],
          [
           0.4444444444444444,
           "#bd3786"
          ],
          [
           0.5555555555555556,
           "#d8576b"
          ],
          [
           0.6666666666666666,
           "#ed7953"
          ],
          [
           0.7777777777777778,
           "#fb9f3a"
          ],
          [
           0.8888888888888888,
           "#fdca26"
          ],
          [
           1,
           "#f0f921"
          ]
         ]
        },
        "margin": {
         "t": 60
        },
        "template": {
         "data": {
          "bar": [
           {
            "error_x": {
             "color": "#2a3f5f"
            },
            "error_y": {
             "color": "#2a3f5f"
            },
            "marker": {
             "line": {
              "color": "#E5ECF6",
              "width": 0.5
             }
            },
            "type": "bar"
           }
          ],
          "barpolar": [
           {
            "marker": {
             "line": {
              "color": "#E5ECF6",
              "width": 0.5
             }
            },
            "type": "barpolar"
           }
          ],
          "carpet": [
           {
            "aaxis": {
             "endlinecolor": "#2a3f5f",
             "gridcolor": "white",
             "linecolor": "white",
             "minorgridcolor": "white",
             "startlinecolor": "#2a3f5f"
            },
            "baxis": {
             "endlinecolor": "#2a3f5f",
             "gridcolor": "white",
             "linecolor": "white",
             "minorgridcolor": "white",
             "startlinecolor": "#2a3f5f"
            },
            "type": "carpet"
           }
          ],
          "choropleth": [
           {
            "colorbar": {
             "outlinewidth": 0,
             "ticks": ""
            },
            "type": "choropleth"
           }
          ],
          "contour": [
           {
            "colorbar": {
             "outlinewidth": 0,
             "ticks": ""
            },
            "colorscale": [
             [
              0,
              "#0d0887"
             ],
             [
              0.1111111111111111,
              "#46039f"
             ],
             [
              0.2222222222222222,
              "#7201a8"
             ],
             [
              0.3333333333333333,
              "#9c179e"
             ],
             [
              0.4444444444444444,
              "#bd3786"
             ],
             [
              0.5555555555555556,
              "#d8576b"
             ],
             [
              0.6666666666666666,
              "#ed7953"
             ],
             [
              0.7777777777777778,
              "#fb9f3a"
             ],
             [
              0.8888888888888888,
              "#fdca26"
             ],
             [
              1,
              "#f0f921"
             ]
            ],
            "type": "contour"
           }
          ],
          "contourcarpet": [
           {
            "colorbar": {
             "outlinewidth": 0,
             "ticks": ""
            },
            "type": "contourcarpet"
           }
          ],
          "heatmap": [
           {
            "colorbar": {
             "outlinewidth": 0,
             "ticks": ""
            },
            "colorscale": [
             [
              0,
              "#0d0887"
             ],
             [
              0.1111111111111111,
              "#46039f"
             ],
             [
              0.2222222222222222,
              "#7201a8"
             ],
             [
              0.3333333333333333,
              "#9c179e"
             ],
             [
              0.4444444444444444,
              "#bd3786"
             ],
             [
              0.5555555555555556,
              "#d8576b"
             ],
             [
              0.6666666666666666,
              "#ed7953"
             ],
             [
              0.7777777777777778,
              "#fb9f3a"
             ],
             [
              0.8888888888888888,
              "#fdca26"
             ],
             [
              1,
              "#f0f921"
             ]
            ],
            "type": "heatmap"
           }
          ],
          "heatmapgl": [
           {
            "colorbar": {
             "outlinewidth": 0,
             "ticks": ""
            },
            "colorscale": [
             [
              0,
              "#0d0887"
             ],
             [
              0.1111111111111111,
              "#46039f"
             ],
             [
              0.2222222222222222,
              "#7201a8"
             ],
             [
              0.3333333333333333,
              "#9c179e"
             ],
             [
              0.4444444444444444,
              "#bd3786"
             ],
             [
              0.5555555555555556,
              "#d8576b"
             ],
             [
              0.6666666666666666,
              "#ed7953"
             ],
             [
              0.7777777777777778,
              "#fb9f3a"
             ],
             [
              0.8888888888888888,
              "#fdca26"
             ],
             [
              1,
              "#f0f921"
             ]
            ],
            "type": "heatmapgl"
           }
          ],
          "histogram": [
           {
            "marker": {
             "colorbar": {
              "outlinewidth": 0,
              "ticks": ""
             }
            },
            "type": "histogram"
           }
          ],
          "histogram2d": [
           {
            "colorbar": {
             "outlinewidth": 0,
             "ticks": ""
            },
            "colorscale": [
             [
              0,
              "#0d0887"
             ],
             [
              0.1111111111111111,
              "#46039f"
             ],
             [
              0.2222222222222222,
              "#7201a8"
             ],
             [
              0.3333333333333333,
              "#9c179e"
             ],
             [
              0.4444444444444444,
              "#bd3786"
             ],
             [
              0.5555555555555556,
              "#d8576b"
             ],
             [
              0.6666666666666666,
              "#ed7953"
             ],
             [
              0.7777777777777778,
              "#fb9f3a"
             ],
             [
              0.8888888888888888,
              "#fdca26"
             ],
             [
              1,
              "#f0f921"
             ]
            ],
            "type": "histogram2d"
           }
          ],
          "histogram2dcontour": [
           {
            "colorbar": {
             "outlinewidth": 0,
             "ticks": ""
            },
            "colorscale": [
             [
              0,
              "#0d0887"
             ],
             [
              0.1111111111111111,
              "#46039f"
             ],
             [
              0.2222222222222222,
              "#7201a8"
             ],
             [
              0.3333333333333333,
              "#9c179e"
             ],
             [
              0.4444444444444444,
              "#bd3786"
             ],
             [
              0.5555555555555556,
              "#d8576b"
             ],
             [
              0.6666666666666666,
              "#ed7953"
             ],
             [
              0.7777777777777778,
              "#fb9f3a"
             ],
             [
              0.8888888888888888,
              "#fdca26"
             ],
             [
              1,
              "#f0f921"
             ]
            ],
            "type": "histogram2dcontour"
           }
          ],
          "mesh3d": [
           {
            "colorbar": {
             "outlinewidth": 0,
             "ticks": ""
            },
            "type": "mesh3d"
           }
          ],
          "parcoords": [
           {
            "line": {
             "colorbar": {
              "outlinewidth": 0,
              "ticks": ""
             }
            },
            "type": "parcoords"
           }
          ],
          "pie": [
           {
            "automargin": true,
            "type": "pie"
           }
          ],
          "scatter": [
           {
            "marker": {
             "colorbar": {
              "outlinewidth": 0,
              "ticks": ""
             }
            },
            "type": "scatter"
           }
          ],
          "scatter3d": [
           {
            "line": {
             "colorbar": {
              "outlinewidth": 0,
              "ticks": ""
             }
            },
            "marker": {
             "colorbar": {
              "outlinewidth": 0,
              "ticks": ""
             }
            },
            "type": "scatter3d"
           }
          ],
          "scattercarpet": [
           {
            "marker": {
             "colorbar": {
              "outlinewidth": 0,
              "ticks": ""
             }
            },
            "type": "scattercarpet"
           }
          ],
          "scattergeo": [
           {
            "marker": {
             "colorbar": {
              "outlinewidth": 0,
              "ticks": ""
             }
            },
            "type": "scattergeo"
           }
          ],
          "scattergl": [
           {
            "marker": {
             "colorbar": {
              "outlinewidth": 0,
              "ticks": ""
             }
            },
            "type": "scattergl"
           }
          ],
          "scattermapbox": [
           {
            "marker": {
             "colorbar": {
              "outlinewidth": 0,
              "ticks": ""
             }
            },
            "type": "scattermapbox"
           }
          ],
          "scatterpolar": [
           {
            "marker": {
             "colorbar": {
              "outlinewidth": 0,
              "ticks": ""
             }
            },
            "type": "scatterpolar"
           }
          ],
          "scatterpolargl": [
           {
            "marker": {
             "colorbar": {
              "outlinewidth": 0,
              "ticks": ""
             }
            },
            "type": "scatterpolargl"
           }
          ],
          "scatterternary": [
           {
            "marker": {
             "colorbar": {
              "outlinewidth": 0,
              "ticks": ""
             }
            },
            "type": "scatterternary"
           }
          ],
          "surface": [
           {
            "colorbar": {
             "outlinewidth": 0,
             "ticks": ""
            },
            "colorscale": [
             [
              0,
              "#0d0887"
             ],
             [
              0.1111111111111111,
              "#46039f"
             ],
             [
              0.2222222222222222,
              "#7201a8"
             ],
             [
              0.3333333333333333,
              "#9c179e"
             ],
             [
              0.4444444444444444,
              "#bd3786"
             ],
             [
              0.5555555555555556,
              "#d8576b"
             ],
             [
              0.6666666666666666,
              "#ed7953"
             ],
             [
              0.7777777777777778,
              "#fb9f3a"
             ],
             [
              0.8888888888888888,
              "#fdca26"
             ],
             [
              1,
              "#f0f921"
             ]
            ],
            "type": "surface"
           }
          ],
          "table": [
           {
            "cells": {
             "fill": {
              "color": "#EBF0F8"
             },
             "line": {
              "color": "white"
             }
            },
            "header": {
             "fill": {
              "color": "#C8D4E3"
             },
             "line": {
              "color": "white"
             }
            },
            "type": "table"
           }
          ]
         },
         "layout": {
          "annotationdefaults": {
           "arrowcolor": "#2a3f5f",
           "arrowhead": 0,
           "arrowwidth": 1
          },
          "coloraxis": {
           "colorbar": {
            "outlinewidth": 0,
            "ticks": ""
           }
          },
          "colorscale": {
           "diverging": [
            [
             0,
             "#8e0152"
            ],
            [
             0.1,
             "#c51b7d"
            ],
            [
             0.2,
             "#de77ae"
            ],
            [
             0.3,
             "#f1b6da"
            ],
            [
             0.4,
             "#fde0ef"
            ],
            [
             0.5,
             "#f7f7f7"
            ],
            [
             0.6,
             "#e6f5d0"
            ],
            [
             0.7,
             "#b8e186"
            ],
            [
             0.8,
             "#7fbc41"
            ],
            [
             0.9,
             "#4d9221"
            ],
            [
             1,
             "#276419"
            ]
           ],
           "sequential": [
            [
             0,
             "#0d0887"
            ],
            [
             0.1111111111111111,
             "#46039f"
            ],
            [
             0.2222222222222222,
             "#7201a8"
            ],
            [
             0.3333333333333333,
             "#9c179e"
            ],
            [
             0.4444444444444444,
             "#bd3786"
            ],
            [
             0.5555555555555556,
             "#d8576b"
            ],
            [
             0.6666666666666666,
             "#ed7953"
            ],
            [
             0.7777777777777778,
             "#fb9f3a"
            ],
            [
             0.8888888888888888,
             "#fdca26"
            ],
            [
             1,
             "#f0f921"
            ]
           ],
           "sequentialminus": [
            [
             0,
             "#0d0887"
            ],
            [
             0.1111111111111111,
             "#46039f"
            ],
            [
             0.2222222222222222,
             "#7201a8"
            ],
            [
             0.3333333333333333,
             "#9c179e"
            ],
            [
             0.4444444444444444,
             "#bd3786"
            ],
            [
             0.5555555555555556,
             "#d8576b"
            ],
            [
             0.6666666666666666,
             "#ed7953"
            ],
            [
             0.7777777777777778,
             "#fb9f3a"
            ],
            [
             0.8888888888888888,
             "#fdca26"
            ],
            [
             1,
             "#f0f921"
            ]
           ]
          },
          "colorway": [
           "#636efa",
           "#EF553B",
           "#00cc96",
           "#ab63fa",
           "#FFA15A",
           "#19d3f3",
           "#FF6692",
           "#B6E880",
           "#FF97FF",
           "#FECB52"
          ],
          "font": {
           "color": "#2a3f5f"
          },
          "geo": {
           "bgcolor": "white",
           "lakecolor": "white",
           "landcolor": "#E5ECF6",
           "showlakes": true,
           "showland": true,
           "subunitcolor": "white"
          },
          "hoverlabel": {
           "align": "left"
          },
          "hovermode": "closest",
          "mapbox": {
           "style": "light"
          },
          "paper_bgcolor": "white",
          "plot_bgcolor": "#E5ECF6",
          "polar": {
           "angularaxis": {
            "gridcolor": "white",
            "linecolor": "white",
            "ticks": ""
           },
           "bgcolor": "#E5ECF6",
           "radialaxis": {
            "gridcolor": "white",
            "linecolor": "white",
            "ticks": ""
           }
          },
          "scene": {
           "xaxis": {
            "backgroundcolor": "#E5ECF6",
            "gridcolor": "white",
            "gridwidth": 2,
            "linecolor": "white",
            "showbackground": true,
            "ticks": "",
            "zerolinecolor": "white"
           },
           "yaxis": {
            "backgroundcolor": "#E5ECF6",
            "gridcolor": "white",
            "gridwidth": 2,
            "linecolor": "white",
            "showbackground": true,
            "ticks": "",
            "zerolinecolor": "white"
           },
           "zaxis": {
            "backgroundcolor": "#E5ECF6",
            "gridcolor": "white",
            "gridwidth": 2,
            "linecolor": "white",
            "showbackground": true,
            "ticks": "",
            "zerolinecolor": "white"
           }
          },
          "shapedefaults": {
           "line": {
            "color": "#2a3f5f"
           }
          },
          "ternary": {
           "aaxis": {
            "gridcolor": "white",
            "linecolor": "white",
            "ticks": ""
           },
           "baxis": {
            "gridcolor": "white",
            "linecolor": "white",
            "ticks": ""
           },
           "bgcolor": "#E5ECF6",
           "caxis": {
            "gridcolor": "white",
            "linecolor": "white",
            "ticks": ""
           }
          },
          "title": {
           "x": 0.05
          },
          "xaxis": {
           "automargin": true,
           "gridcolor": "white",
           "linecolor": "white",
           "ticks": "",
           "title": {
            "standoff": 15
           },
           "zerolinecolor": "white",
           "zerolinewidth": 2
          },
          "yaxis": {
           "automargin": true,
           "gridcolor": "white",
           "linecolor": "white",
           "ticks": "",
           "title": {
            "standoff": 15
           },
           "zerolinecolor": "white",
           "zerolinewidth": 2
          }
         }
        },
        "xaxis": {
         "constrain": "domain",
         "scaleanchor": "y"
        },
        "yaxis": {
         "autorange": "reversed",
         "constrain": "domain"
        }
       }
      },
      "text/html": [
       "<div>\n",
       "        \n",
       "        \n",
       "            <div id=\"625ed61d-35e7-4c37-a563-ef04fd5f3d91\" class=\"plotly-graph-div\" style=\"height:525px; width:100%;\"></div>\n",
       "            <script type=\"text/javascript\">\n",
       "                require([\"plotly\"], function(Plotly) {\n",
       "                    window.PLOTLYENV=window.PLOTLYENV || {};\n",
       "                    \n",
       "                if (document.getElementById(\"625ed61d-35e7-4c37-a563-ef04fd5f3d91\")) {\n",
       "                    Plotly.newPlot(\n",
       "                        '625ed61d-35e7-4c37-a563-ef04fd5f3d91',\n",
       "                        [{\"coloraxis\": \"coloraxis\", \"hovertemplate\": \"x: %{x}<br>y: %{y}<br>color: %{z}<extra></extra>\", \"type\": \"heatmap\", \"x\": [\"payment_plan_days_per_transaction_avg\", \"plan_list_price_per_transaction_avg\", \"actual_amount_paid_per_transaction_avg\", \"num_25_per_session_avg\", \"num_50_per_session_avg\", \"num_75_per_session_avg\", \"num_985_per_session_avg\", \"num_100_per_session_avg\", \"num_unq_per_session_avg\", \"total_secs_per_session\", \"age\", \"num_transactions\", \"num_sessions\", \"membership_duration\", \"days_to_expiration\", \"city\", \"registered_via\", \"payment_method_id\", \"is_churn\", \"is_female\", \"is_auto_renew\", \"is_cancel\"], \"y\": [\"payment_plan_days_per_transaction_avg\", \"plan_list_price_per_transaction_avg\", \"actual_amount_paid_per_transaction_avg\", \"num_25_per_session_avg\", \"num_50_per_session_avg\", \"num_75_per_session_avg\", \"num_985_per_session_avg\", \"num_100_per_session_avg\", \"num_unq_per_session_avg\", \"total_secs_per_session\", \"age\", \"num_transactions\", \"num_sessions\", \"membership_duration\", \"days_to_expiration\", \"city\", \"registered_via\", \"payment_method_id\", \"is_churn\", \"is_female\", \"is_auto_renew\", \"is_cancel\"], \"z\": [[null, null, null, null, null, null, null, null, null, null, null, null, null, null, null, null, null, null, null, null, null, null], [null, 1.0, 0.971418824546763, 0.03621738124693506, 0.062116213760628716, 0.06537048520664064, 0.06262958920409344, 0.09663400314641134, 0.11726428464794078, 0.10416149947862419, -0.04083644143560558, 0.10512142626809803, 0.16875553006832847, 0.3304386001459349, 0.04655734832666756, 0.42519036749116756, -0.12111338193835311, -0.5322652080379217, 0.07844380368356205, 0.13251485114440326, -0.3059897204520707, 0.033596560836143596], [null, 0.971418824546763, 1.0, 0.0381657035048176, 0.06321654195100943, 0.06639318507728409, 0.0606474742617637, 0.0942377499695275, 0.1164644378637234, 0.10149427319998067, -0.0373025863767596, 0.08153671472682768, 0.16824220316050487, 0.32840469006292733, 0.05337049129773353, 0.41495340427217237, -0.11023992143017289, -0.49878533320828533, 0.05069860359945149, 0.12994736378461355, -0.3056377283858414, 0.010569959616538897], [null, 0.03621738124693506, 0.0381657035048176, 1.0, 0.5324976157713547, 0.5147212374993184, 0.30517905054539884, 0.06622293681906302, 0.40245559659646873, 0.10708757038623687, -0.10187035559804439, -0.012584981545731806, 0.1733256281343273, -0.041542786523902545, -0.01406877306917768, 0.010371868155051457, -0.02869478641776044, -0.026364052842129882, -0.006470234295720151, -0.020847677701345654, -0.09650079101450562, -0.010051809583666962], [null, 0.062116213760628716, 0.06321654195100943, 0.5324976157713547, 1.0, 0.7522861856265872, 0.35868532918347, 0.08667868044110377, 0.32310334344105274, 0.14234020832737276, -0.10846491032549714, -0.00034653125396455644, 0.17038860699448122, -0.02211639168705083, -0.007921621626760534, 0.04243761794841786, -0.03314452093526153, -0.052827901143736124, 0.01294563096109048, -0.014959443547399028, -0.11630004339117275, -0.010106665879067549], [null, 0.06537048520664064, 0.06639318507728409, 0.5147212374993184, 0.7522861856265872, 1.0, 0.4732062324982163, 0.14694420355259713, 0.34695957261059485, 0.20680518234648884, -0.1034800165383713, -0.0009714972512274353, 0.24184862774376012, -0.012970544217842928, -0.011062984407681867, 0.046452963490191596, -0.02976783661149055, -0.06267808429510956, 0.013670141637756855, -0.027168497887550776, -0.11266239423856789, 0.0011939586473084407], [null, 0.06262958920409344, 0.0606474742617637, 0.30517905054539884, 0.35868532918347, 0.4732062324982163, 1.0, 0.1680774309921582, 0.32744066210765244, 0.23669717758593728, -0.06001983450636681, 0.00652619784138586, 0.20509926528216918, 0.02676366950304095, -0.006606167851119479, 0.05267787853543941, -0.005380404215399977, -0.05457381599310426, -2.984623738925191e-05, -0.016009192860715966, -0.07571731768233889, -0.0007992224850117426], [null, 0.09663400314641134, 0.0942377499695275, 0.06622293681906302, 0.08667868044110377, 0.14694420355259713, 0.1680774309921582, 1.0, 0.7988598916538431, 0.9822889047162587, 0.0005258433800025565, 0.020050263411860548, 0.3704763718518623, 0.06751656573910025, 0.008695333253583579, 0.10220194979903563, 0.0016209159921163438, -0.08202121959795323, -0.008012660502429695, -0.016798433150035815, -0.0370204248321891, -0.010220495227344594], [null, 0.11726428464794078, 0.1164644378637234, 0.40245559659646873, 0.32310334344105274, 0.34695957261059485, 0.32744066210765244, 0.7988598916538431, 1.0, 0.8245437724089016, -0.06091165962420742, 0.015490468428855006, 0.38530417271847683, 0.047971446733143394, 0.003657180159234958, 0.10766832434295906, -0.010508362276025836, -0.08646111299541728, -0.0081183058496191, -0.018932419610093416, -0.07844997513752547, -0.009699338631830501], [null, 0.10416149947862419, 0.10149427319998067, 0.10708757038623687, 0.14234020832737276, 0.20680518234648884, 0.23669717758593728, 0.9822889047162587, 0.8245437724089016, 1.0, -0.0033507299823615075, 0.02097294668454728, 0.3841467115655282, 0.06874361371428334, 0.0075105575369232664, 0.10913285392853742, -0.00010590583396306555, -0.08950479369622664, -0.00696797137097848, -0.019048357352356785, -0.04584501054582929, -0.008842057150164544], [null, -0.04083644143560558, -0.0373025863767596, -0.10187035559804439, -0.10846491032549714, -0.1034800165383713, -0.06001983450636681, 0.0005258433800025565, -0.06091165962420742, -0.0033507299823615075, 1.0, 0.006515447727158735, -0.12235888663662237, 0.27662656115086787, 0.01582348568045821, 0.005942886375448747, 0.24195390369098474, -0.0032216867105533177, -0.03772306733797588, 0.10164056685144547, 0.2925819835745513, -0.0148025710105864], [null, 0.10512142626809803, 0.08153671472682768, -0.012584981545731806, -0.00034653125396455644, -0.0009714972512274353, 0.00652619784138586, 0.020050263411860548, 0.015490468428855006, 0.02097294668454728, 0.006515447727158735, 1.0, 0.01454785361816063, 0.09972168267193227, 0.807107046319203, 0.09937453178163987, 0.0022840400268108233, -0.02358383029525314, 0.17715349357801993, 0.042819050110790964, 0.02908859566026197, 0.11663445587809405], [null, 0.16875553006832847, 0.16824220316050487, 0.1733256281343273, 0.17038860699448122, 0.24184862774376012, 0.20509926528216918, 0.3704763718518623, 0.38530417271847683, 0.3841467115655282, -0.12235888663662237, 0.01454785361816063, 1.0, 0.05046508766251889, 0.019599582003574558, 0.12405493649103243, -0.03745319692204632, -0.10506616640411975, -0.03159908981722768, 0.010814947788446142, -0.13546825799989662, -0.08379783888321383], [null, 0.3304386001459349, 0.32840469006292733, -0.041542786523902545, -0.02211639168705083, -0.012970544217842928, 0.02676366950304095, 0.06751656573910025, 0.047971446733143394, 0.06874361371428334, 0.27662656115086787, 0.09972168267193227, 0.05046508766251889, 1.0, 0.06372135110254705, 0.35556022733683385, 0.38642042168417057, -0.27648550409782474, 0.00026489886421481127, 0.32523963415422247, 0.08022975696388955, -0.020411830118217292], [null, 0.04655734832666756, 0.05337049129773353, -0.01406877306917768, -0.007921621626760534, -0.011062984407681867, -0.006606167851119479, 0.008695333253583579, 0.003657180159234958, 0.0075105575369232664, 0.01582348568045821, 0.807107046319203, 0.019599582003574558, 0.06372135110254705, 1.0, 0.02747480457597755, 0.005758051796815878, 0.027486175817247466, 0.05917360454907931, 0.04704476197270601, 0.01213289826349281, -0.0896283870956033], [null, 0.42519036749116756, 0.41495340427217237, 0.010371868155051457, 0.04243761794841786, 0.046452963490191596, 0.05267787853543941, 0.10220194979903563, 0.10766832434295906, 0.10913285392853742, 0.005942886375448747, 0.09937453178163987, 0.12405493649103243, 0.35556022733683385, 0.02747480457597755, 1.0, 0.002801049797674915, -0.32242959803507476, 0.03397081434257403, 0.1398870133069907, -0.05892480074438341, 0.0192579908899872], [null, -0.12111338193835311, -0.11023992143017289, -0.02869478641776044, -0.03314452093526153, -0.02976783661149055, -0.005380404215399977, 0.0016209159921163438, -0.010508362276025836, -0.00010590583396306555, 0.24195390369098474, 0.0022840400268108233, -0.03745319692204632, 0.38642042168417057, 0.005758051796815878, 0.002801049797674915, 1.0, 0.004178166022917392, -0.042585618540410555, 0.05585484973486456, 0.21302001065625067, -0.014969963017131415], [null, -0.5322652080379217, -0.49878533320828533, -0.026364052842129882, -0.052827901143736124, -0.06267808429510956, -0.05457381599310426, -0.08202121959795323, -0.08646111299541728, -0.08950479369622664, -0.0032216867105533177, -0.02358383029525314, -0.10506616640411975, -0.27648550409782474, 0.027486175817247466, -0.32242959803507476, 0.004178166022917392, 1.0, -0.03098299712555233, -0.016588945603273716, 0.21393390657478065, -0.02081329521158808], [null, 0.07844380368356205, 0.05069860359945149, -0.006470234295720151, 0.01294563096109048, 0.013670141637756855, -2.984623738925191e-05, -0.008012660502429695, -0.0081183058496191, -0.00696797137097848, -0.03772306733797588, 0.17715349357801993, -0.03159908981722768, 0.00026489886421481127, 0.05917360454907931, 0.03397081434257403, -0.042585618540410555, -0.03098299712555233, 1.0, -0.011847827762653036, -0.12525131527549455, 0.48407152279606985], [null, 0.13251485114440326, 0.12994736378461355, -0.020847677701345654, -0.014959443547399028, -0.027168497887550776, -0.016009192860715966, -0.016798433150035815, -0.018932419610093416, -0.019048357352356785, 0.10164056685144547, 0.042819050110790964, 0.010814947788446142, 0.32523963415422247, 0.04704476197270601, 0.1398870133069907, 0.05585484973486456, -0.016588945603273716, -0.011847827762653036, 1.0, 0.04233795249752668, -0.02200840906312745], [null, -0.3059897204520707, -0.3056377283858414, -0.09650079101450562, -0.11630004339117275, -0.11266239423856789, -0.07571731768233889, -0.0370204248321891, -0.07844997513752547, -0.04584501054582929, 0.2925819835745513, 0.02908859566026197, -0.13546825799989662, 0.08022975696388955, 0.01213289826349281, -0.05892480074438341, 0.21302001065625067, 0.21393390657478065, -0.12525131527549455, 0.04233795249752668, 1.0, 0.045311436201666326], [null, 0.033596560836143596, 0.010569959616538897, -0.010051809583666962, -0.010106665879067549, 0.0011939586473084407, -0.0007992224850117426, -0.010220495227344594, -0.009699338631830501, -0.008842057150164544, -0.0148025710105864, 0.11663445587809405, -0.08379783888321383, -0.020411830118217292, -0.0896283870956033, 0.0192579908899872, -0.014969963017131415, -0.02081329521158808, 0.48407152279606985, -0.02200840906312745, 0.045311436201666326, 1.0]]}],\n",
       "                        {\"coloraxis\": {\"colorscale\": [[0.0, \"#0d0887\"], [0.1111111111111111, \"#46039f\"], [0.2222222222222222, \"#7201a8\"], [0.3333333333333333, \"#9c179e\"], [0.4444444444444444, \"#bd3786\"], [0.5555555555555556, \"#d8576b\"], [0.6666666666666666, \"#ed7953\"], [0.7777777777777778, \"#fb9f3a\"], [0.8888888888888888, \"#fdca26\"], [1.0, \"#f0f921\"]]}, \"margin\": {\"t\": 60}, \"template\": {\"data\": {\"bar\": [{\"error_x\": {\"color\": \"#2a3f5f\"}, \"error_y\": {\"color\": \"#2a3f5f\"}, \"marker\": {\"line\": {\"color\": \"#E5ECF6\", \"width\": 0.5}}, \"type\": \"bar\"}], \"barpolar\": [{\"marker\": {\"line\": {\"color\": \"#E5ECF6\", \"width\": 0.5}}, \"type\": \"barpolar\"}], \"carpet\": [{\"aaxis\": {\"endlinecolor\": \"#2a3f5f\", \"gridcolor\": \"white\", \"linecolor\": \"white\", \"minorgridcolor\": \"white\", \"startlinecolor\": \"#2a3f5f\"}, \"baxis\": {\"endlinecolor\": \"#2a3f5f\", \"gridcolor\": \"white\", \"linecolor\": \"white\", \"minorgridcolor\": \"white\", \"startlinecolor\": \"#2a3f5f\"}, \"type\": \"carpet\"}], \"choropleth\": [{\"colorbar\": {\"outlinewidth\": 0, \"ticks\": \"\"}, \"type\": \"choropleth\"}], \"contour\": [{\"colorbar\": {\"outlinewidth\": 0, \"ticks\": \"\"}, \"colorscale\": [[0.0, \"#0d0887\"], [0.1111111111111111, \"#46039f\"], [0.2222222222222222, \"#7201a8\"], [0.3333333333333333, \"#9c179e\"], [0.4444444444444444, \"#bd3786\"], [0.5555555555555556, \"#d8576b\"], [0.6666666666666666, \"#ed7953\"], [0.7777777777777778, \"#fb9f3a\"], [0.8888888888888888, \"#fdca26\"], [1.0, \"#f0f921\"]], \"type\": \"contour\"}], \"contourcarpet\": [{\"colorbar\": {\"outlinewidth\": 0, \"ticks\": \"\"}, \"type\": \"contourcarpet\"}], \"heatmap\": [{\"colorbar\": {\"outlinewidth\": 0, \"ticks\": \"\"}, \"colorscale\": [[0.0, \"#0d0887\"], [0.1111111111111111, \"#46039f\"], [0.2222222222222222, \"#7201a8\"], [0.3333333333333333, \"#9c179e\"], [0.4444444444444444, \"#bd3786\"], [0.5555555555555556, \"#d8576b\"], [0.6666666666666666, \"#ed7953\"], [0.7777777777777778, \"#fb9f3a\"], [0.8888888888888888, \"#fdca26\"], [1.0, \"#f0f921\"]], \"type\": \"heatmap\"}], \"heatmapgl\": [{\"colorbar\": {\"outlinewidth\": 0, \"ticks\": \"\"}, \"colorscale\": [[0.0, \"#0d0887\"], [0.1111111111111111, \"#46039f\"], [0.2222222222222222, \"#7201a8\"], [0.3333333333333333, \"#9c179e\"], [0.4444444444444444, \"#bd3786\"], [0.5555555555555556, \"#d8576b\"], [0.6666666666666666, \"#ed7953\"], [0.7777777777777778, \"#fb9f3a\"], [0.8888888888888888, \"#fdca26\"], [1.0, \"#f0f921\"]], \"type\": \"heatmapgl\"}], \"histogram\": [{\"marker\": {\"colorbar\": {\"outlinewidth\": 0, \"ticks\": \"\"}}, \"type\": \"histogram\"}], \"histogram2d\": [{\"colorbar\": {\"outlinewidth\": 0, \"ticks\": \"\"}, \"colorscale\": [[0.0, \"#0d0887\"], [0.1111111111111111, \"#46039f\"], [0.2222222222222222, \"#7201a8\"], [0.3333333333333333, \"#9c179e\"], [0.4444444444444444, \"#bd3786\"], [0.5555555555555556, \"#d8576b\"], [0.6666666666666666, \"#ed7953\"], [0.7777777777777778, \"#fb9f3a\"], [0.8888888888888888, \"#fdca26\"], [1.0, \"#f0f921\"]], \"type\": \"histogram2d\"}], \"histogram2dcontour\": [{\"colorbar\": {\"outlinewidth\": 0, \"ticks\": \"\"}, \"colorscale\": [[0.0, \"#0d0887\"], [0.1111111111111111, \"#46039f\"], [0.2222222222222222, \"#7201a8\"], [0.3333333333333333, \"#9c179e\"], [0.4444444444444444, \"#bd3786\"], [0.5555555555555556, \"#d8576b\"], [0.6666666666666666, \"#ed7953\"], [0.7777777777777778, \"#fb9f3a\"], [0.8888888888888888, \"#fdca26\"], [1.0, \"#f0f921\"]], \"type\": \"histogram2dcontour\"}], \"mesh3d\": [{\"colorbar\": {\"outlinewidth\": 0, \"ticks\": \"\"}, \"type\": \"mesh3d\"}], \"parcoords\": [{\"line\": {\"colorbar\": {\"outlinewidth\": 0, \"ticks\": \"\"}}, \"type\": \"parcoords\"}], \"pie\": [{\"automargin\": true, \"type\": \"pie\"}], \"scatter\": [{\"marker\": {\"colorbar\": {\"outlinewidth\": 0, \"ticks\": \"\"}}, \"type\": \"scatter\"}], \"scatter3d\": [{\"line\": {\"colorbar\": {\"outlinewidth\": 0, \"ticks\": \"\"}}, \"marker\": {\"colorbar\": {\"outlinewidth\": 0, \"ticks\": \"\"}}, \"type\": \"scatter3d\"}], \"scattercarpet\": [{\"marker\": {\"colorbar\": {\"outlinewidth\": 0, \"ticks\": \"\"}}, \"type\": \"scattercarpet\"}], \"scattergeo\": [{\"marker\": {\"colorbar\": {\"outlinewidth\": 0, \"ticks\": \"\"}}, \"type\": \"scattergeo\"}], \"scattergl\": [{\"marker\": {\"colorbar\": {\"outlinewidth\": 0, \"ticks\": \"\"}}, \"type\": \"scattergl\"}], \"scattermapbox\": [{\"marker\": {\"colorbar\": {\"outlinewidth\": 0, \"ticks\": \"\"}}, \"type\": \"scattermapbox\"}], \"scatterpolar\": [{\"marker\": {\"colorbar\": {\"outlinewidth\": 0, \"ticks\": \"\"}}, \"type\": \"scatterpolar\"}], \"scatterpolargl\": [{\"marker\": {\"colorbar\": {\"outlinewidth\": 0, \"ticks\": \"\"}}, \"type\": \"scatterpolargl\"}], \"scatterternary\": [{\"marker\": {\"colorbar\": {\"outlinewidth\": 0, \"ticks\": \"\"}}, \"type\": \"scatterternary\"}], \"surface\": [{\"colorbar\": {\"outlinewidth\": 0, \"ticks\": \"\"}, \"colorscale\": [[0.0, \"#0d0887\"], [0.1111111111111111, \"#46039f\"], [0.2222222222222222, \"#7201a8\"], [0.3333333333333333, \"#9c179e\"], [0.4444444444444444, \"#bd3786\"], [0.5555555555555556, \"#d8576b\"], [0.6666666666666666, \"#ed7953\"], [0.7777777777777778, \"#fb9f3a\"], [0.8888888888888888, \"#fdca26\"], [1.0, \"#f0f921\"]], \"type\": \"surface\"}], \"table\": [{\"cells\": {\"fill\": {\"color\": \"#EBF0F8\"}, \"line\": {\"color\": \"white\"}}, \"header\": {\"fill\": {\"color\": \"#C8D4E3\"}, \"line\": {\"color\": \"white\"}}, \"type\": \"table\"}]}, \"layout\": {\"annotationdefaults\": {\"arrowcolor\": \"#2a3f5f\", \"arrowhead\": 0, \"arrowwidth\": 1}, \"coloraxis\": {\"colorbar\": {\"outlinewidth\": 0, \"ticks\": \"\"}}, \"colorscale\": {\"diverging\": [[0, \"#8e0152\"], [0.1, \"#c51b7d\"], [0.2, \"#de77ae\"], [0.3, \"#f1b6da\"], [0.4, \"#fde0ef\"], [0.5, \"#f7f7f7\"], [0.6, \"#e6f5d0\"], [0.7, \"#b8e186\"], [0.8, \"#7fbc41\"], [0.9, \"#4d9221\"], [1, \"#276419\"]], \"sequential\": [[0.0, \"#0d0887\"], [0.1111111111111111, \"#46039f\"], [0.2222222222222222, \"#7201a8\"], [0.3333333333333333, \"#9c179e\"], [0.4444444444444444, \"#bd3786\"], [0.5555555555555556, \"#d8576b\"], [0.6666666666666666, \"#ed7953\"], [0.7777777777777778, \"#fb9f3a\"], [0.8888888888888888, \"#fdca26\"], [1.0, \"#f0f921\"]], \"sequentialminus\": [[0.0, \"#0d0887\"], [0.1111111111111111, \"#46039f\"], [0.2222222222222222, \"#7201a8\"], [0.3333333333333333, \"#9c179e\"], [0.4444444444444444, \"#bd3786\"], [0.5555555555555556, \"#d8576b\"], [0.6666666666666666, \"#ed7953\"], [0.7777777777777778, \"#fb9f3a\"], [0.8888888888888888, \"#fdca26\"], [1.0, \"#f0f921\"]]}, \"colorway\": [\"#636efa\", \"#EF553B\", \"#00cc96\", \"#ab63fa\", \"#FFA15A\", \"#19d3f3\", \"#FF6692\", \"#B6E880\", \"#FF97FF\", \"#FECB52\"], \"font\": {\"color\": \"#2a3f5f\"}, \"geo\": {\"bgcolor\": \"white\", \"lakecolor\": \"white\", \"landcolor\": \"#E5ECF6\", \"showlakes\": true, \"showland\": true, \"subunitcolor\": \"white\"}, \"hoverlabel\": {\"align\": \"left\"}, \"hovermode\": \"closest\", \"mapbox\": {\"style\": \"light\"}, \"paper_bgcolor\": \"white\", \"plot_bgcolor\": \"#E5ECF6\", \"polar\": {\"angularaxis\": {\"gridcolor\": \"white\", \"linecolor\": \"white\", \"ticks\": \"\"}, \"bgcolor\": \"#E5ECF6\", \"radialaxis\": {\"gridcolor\": \"white\", \"linecolor\": \"white\", \"ticks\": \"\"}}, \"scene\": {\"xaxis\": {\"backgroundcolor\": \"#E5ECF6\", \"gridcolor\": \"white\", \"gridwidth\": 2, \"linecolor\": \"white\", \"showbackground\": true, \"ticks\": \"\", \"zerolinecolor\": \"white\"}, \"yaxis\": {\"backgroundcolor\": \"#E5ECF6\", \"gridcolor\": \"white\", \"gridwidth\": 2, \"linecolor\": \"white\", \"showbackground\": true, \"ticks\": \"\", \"zerolinecolor\": \"white\"}, \"zaxis\": {\"backgroundcolor\": \"#E5ECF6\", \"gridcolor\": \"white\", \"gridwidth\": 2, \"linecolor\": \"white\", \"showbackground\": true, \"ticks\": \"\", \"zerolinecolor\": \"white\"}}, \"shapedefaults\": {\"line\": {\"color\": \"#2a3f5f\"}}, \"ternary\": {\"aaxis\": {\"gridcolor\": \"white\", \"linecolor\": \"white\", \"ticks\": \"\"}, \"baxis\": {\"gridcolor\": \"white\", \"linecolor\": \"white\", \"ticks\": \"\"}, \"bgcolor\": \"#E5ECF6\", \"caxis\": {\"gridcolor\": \"white\", \"linecolor\": \"white\", \"ticks\": \"\"}}, \"title\": {\"x\": 0.05}, \"xaxis\": {\"automargin\": true, \"gridcolor\": \"white\", \"linecolor\": \"white\", \"ticks\": \"\", \"title\": {\"standoff\": 15}, \"zerolinecolor\": \"white\", \"zerolinewidth\": 2}, \"yaxis\": {\"automargin\": true, \"gridcolor\": \"white\", \"linecolor\": \"white\", \"ticks\": \"\", \"title\": {\"standoff\": 15}, \"zerolinecolor\": \"white\", \"zerolinewidth\": 2}}}, \"xaxis\": {\"constrain\": \"domain\", \"scaleanchor\": \"y\"}, \"yaxis\": {\"autorange\": \"reversed\", \"constrain\": \"domain\"}},\n",
       "                        {\"responsive\": true}\n",
       "                    ).then(function(){\n",
       "                            \n",
       "var gd = document.getElementById('625ed61d-35e7-4c37-a563-ef04fd5f3d91');\n",
       "var x = new MutationObserver(function (mutations, observer) {{\n",
       "        var display = window.getComputedStyle(gd).display;\n",
       "        if (!display || display === 'none') {{\n",
       "            console.log([gd, 'removed!']);\n",
       "            Plotly.purge(gd);\n",
       "            observer.disconnect();\n",
       "        }}\n",
       "}});\n",
       "\n",
       "// Listen for the removal of the full notebook cells\n",
       "var notebookContainer = gd.closest('#notebook-container');\n",
       "if (notebookContainer) {{\n",
       "    x.observe(notebookContainer, {childList: true});\n",
       "}}\n",
       "\n",
       "// Listen for the clearing of the current output cell\n",
       "var outputEl = gd.closest('.output');\n",
       "if (outputEl) {{\n",
       "    x.observe(outputEl, {childList: true});\n",
       "}}\n",
       "\n",
       "                        })\n",
       "                };\n",
       "                });\n",
       "            </script>\n",
       "        </div>"
      ]
     },
     "metadata": {},
     "output_type": "display_data"
    }
   ],
   "source": [
    "px.imshow(subset.astype(float).corr(), x=subset.astype(float).corr().columns, y=subset.astype(float).corr().index)"
   ]
  },
  {
   "cell_type": "markdown",
   "metadata": {},
   "source": [
    "## Dataframe by Plans"
   ]
  },
  {
   "cell_type": "code",
   "execution_count": 26,
   "metadata": {},
   "outputs": [],
   "source": [
    "# set bool cols to int to get percentages for plans df\n",
    "subset[bool_cols] = subset[bool_cols].astype(float).astype(int)\n",
    "\n",
    "plans = subset.groupby('plan_list_price_per_transaction_avg').mean()"
   ]
  },
  {
   "cell_type": "code",
   "execution_count": 27,
   "metadata": {},
   "outputs": [],
   "source": [
    "# add cols left out of groupby_mean to plans df\n",
    "mode_cols = subset.columns.difference(plans.columns).to_list()\n",
    "mode_df = subset.groupby('plan_list_price_per_transaction_avg'\n",
    "                        )[mode_cols].agg(lambda x: x.value_counts().index[0])\n",
    "plans = plans.merge(mode_df, left_index=True, right_index=True)"
   ]
  },
  {
   "cell_type": "code",
   "execution_count": 28,
   "metadata": {
    "scrolled": true
   },
   "outputs": [],
   "source": [
    "plans.index.name = 'plan_list_price'\n",
    "plans.rename(columns={\n",
    "    'age' : 'user_age_avg',\n",
    "    'num_transactions'   : 'num_transactions_avg',\n",
    "    'num_sessions': 'num_sessions_avg',\n",
    "    'membership_duration' : 'membership_duration_avg',\n",
    "    'days_to_expiration' : 'days_to_expiration_avg',\n",
    "    'city' : 'city_mode',\n",
    "    'is_auto_renew': 'is_auto_renew_percent',\n",
    "    'is_cancel': 'is_cancel_percent',\n",
    "    'is_churn': 'is_churn_percent',\n",
    "    'is_female': 'is_female_percent',\n",
    "    'payment_method_id': 'payment_method_id_mode',\n",
    "    'registered_via': 'registered_via_mode'}, inplace=True)\n",
    "\n",
    "plans.drop(['payment_plan_days_per_transaction_avg',\n",
    "            'actual_amount_paid_per_transaction_avg',\n",
    "            'plan_list_price_per_transaction_avg'],\n",
    "           axis=1, inplace=True)"
   ]
  },
  {
   "cell_type": "markdown",
   "metadata": {},
   "source": [
    "### Feature Engineering"
   ]
  },
  {
   "cell_type": "code",
   "execution_count": 29,
   "metadata": {},
   "outputs": [],
   "source": [
    "# add share of users per plan\n",
    "plans['num_users'] = \\\n",
    "    subset.reset_index().groupby(['plan_list_price_per_transaction_avg']\n",
    "                                ).msno.count()\n",
    "\n",
    "plans['num_users_share'] = plans.num_users / plans.num_users.sum()"
   ]
  },
  {
   "cell_type": "code",
   "execution_count": 30,
   "metadata": {
    "scrolled": true
   },
   "outputs": [
    {
     "data": {
      "text/plain": [
       "plan_list_price\n",
       "99.0     0.316634\n",
       "100.0    0.033493\n",
       "129.0    0.039052\n",
       "149.0    0.498522\n",
       "180.0    0.112299\n",
       "Name: num_users_share, dtype: float64"
      ]
     },
     "execution_count": 30,
     "metadata": {},
     "output_type": "execute_result"
    }
   ],
   "source": [
    "plans.num_users_share"
   ]
  },
  {
   "cell_type": "code",
   "execution_count": 31,
   "metadata": {
    "scrolled": true
   },
   "outputs": [],
   "source": [
    "# add share of total churn per plan\n",
    "plans['num_is_churn'] = plans.num_users * plans.is_churn_percent\n",
    "\n",
    "plans['is_churn_share'] = plans.num_is_churn / plans.num_is_churn.sum()"
   ]
  },
  {
   "cell_type": "markdown",
   "metadata": {},
   "source": [
    "#### Revenue by Churn"
   ]
  },
  {
   "cell_type": "code",
   "execution_count": 32,
   "metadata": {
    "scrolled": false
   },
   "outputs": [
    {
     "name": "stdout",
     "output_type": "stream",
     "text": [
      "Gross revenue:\n",
      " plan_list_price\n",
      "99.0      445500.0\n",
      "100.0      47600.0\n",
      "129.0      71595.0\n",
      "149.0    1055665.0\n",
      "180.0     287280.0\n",
      "Name: gross_revenue_amount, dtype: float64 \n",
      "\n",
      "Revenue lost to churn:\n",
      " plan_list_price\n",
      "99.0     10494.0\n",
      "100.0      500.0\n",
      "129.0     3741.0\n",
      "149.0    48723.0\n",
      "180.0    21240.0\n",
      "Name: is_churn_amount, dtype: float64 \n",
      "\n",
      "Net revenue:\n",
      " plan_list_price\n",
      "99.0      435006.0\n",
      "100.0      47100.0\n",
      "129.0      67854.0\n",
      "149.0    1006942.0\n",
      "180.0     266040.0\n",
      "Name: net_revenue_amount, dtype: float64\n"
     ]
    }
   ],
   "source": [
    "# gross revenue per plan\n",
    "plans['gross_revenue_amount'] = plans.index * plans.num_users\n",
    "print('Gross revenue:\\n', plans.gross_revenue_amount, '\\n')\n",
    "\n",
    "# amount of revenue lost to churn per plan\n",
    "plans['is_churn_amount'] = plans.gross_revenue_amount * plans.is_churn_percent\n",
    "print('Revenue lost to churn:\\n', plans.is_churn_amount, '\\n')\n",
    "\n",
    "# net revenue per plan\n",
    "plans['net_revenue_amount'] = \\\n",
    "    plans.gross_revenue_amount * (1 - plans.is_churn_percent)\n",
    "print('Net revenue:\\n', plans.net_revenue_amount)"
   ]
  },
  {
   "cell_type": "code",
   "execution_count": 33,
   "metadata": {
    "scrolled": true
   },
   "outputs": [],
   "source": [
    "# percent gross revenue per plan\n",
    "plans['gross_revenue_percent'] = \\\n",
    "    plans.gross_revenue_amount / plans.gross_revenue_amount.sum()"
   ]
  },
  {
   "cell_type": "code",
   "execution_count": 34,
   "metadata": {
    "scrolled": true
   },
   "outputs": [],
   "source": [
    "# percent net revenue per plan: gross minus churn\n",
    "plans['net_revenue_percent'] = \\\n",
    "    plans.gross_revenue_percent * (1 - plans.is_churn_percent)"
   ]
  },
  {
   "cell_type": "code",
   "execution_count": 35,
   "metadata": {},
   "outputs": [],
   "source": [
    "# do annual amounts to factor in loss month-after-month"
   ]
  },
  {
   "cell_type": "markdown",
   "metadata": {},
   "source": [
    "#### Churn"
   ]
  },
  {
   "cell_type": "code",
   "execution_count": 36,
   "metadata": {},
   "outputs": [
    {
     "data": {
      "image/png": "[encoded data removed]",
      "text/plain": [
       "<Figure size 432x288 with 1 Axes>"
      ]
     },
     "metadata": {},
     "output_type": "display_data"
    }
   ],
   "source": [
    "ax = plans.num_users_share.plot(title='Share of Users Per Plan',\n",
    "                                 kind='bar', grid=True, colormap='Set2')\n",
    "ax.set_xlabel('Plan List Price')\n",
    "ax.set_ylabel('Share of Users')\n",
    "plt.savefig('../images/share_users_plan.png', bbox_inches = \"tight\");"
   ]
  },
  {
   "cell_type": "code",
   "execution_count": 37,
   "metadata": {
    "scrolled": false
   },
   "outputs": [
    {
     "data": {
      "image/png": "[encoded data removed]",
      "text/plain": [
       "<Figure size 432x288 with 1 Axes>"
      ]
     },
     "metadata": {},
     "output_type": "display_data"
    }
   ],
   "source": [
    "ax = plans.is_churn_percent.plot(title='Amount of Churn Per Plan',\n",
    "                                 kind='bar', grid=True, colormap='Set2')\n",
    "ax.set_xlabel('Plan List Price')\n",
    "ax.set_ylabel('Proportion')\n",
    "plt.savefig('../images/amount_churn_plan.png', bbox_inches = \"tight\");"
   ]
  },
  {
   "cell_type": "markdown",
   "metadata": {},
   "source": [
    "- Although the $\\$$180 plan has the highest amount of churn (above), it has the 2nd greatest share of churn among all plans (below), meaning it affects revenue less than the $\\$$149 plan even though the $\\$$149 plan has less churn."
   ]
  },
  {
   "cell_type": "code",
   "execution_count": 38,
   "metadata": {},
   "outputs": [
    {
     "data": {
      "image/png": "[encoded data removed]",
      "text/plain": [
       "<Figure size 432x288 with 1 Axes>"
      ]
     },
     "metadata": {},
     "output_type": "display_data"
    }
   ],
   "source": [
    "# represents the gap between bars in the chart below\n",
    "ax = plans.is_churn_share.plot(title='Share of Total Churn Per Plan',\n",
    "                                 kind='bar', grid=True, colormap='Set2')\n",
    "ax.set_xlabel('Plan List Price')\n",
    "ax.set_ylabel('Proportion')\n",
    "plt.savefig('../images/share_churn_plan.png', bbox_inches = \"tight\");"
   ]
  },
  {
   "cell_type": "markdown",
   "metadata": {},
   "source": [
    "- This difference is shown below. The plan with the highest churn actually results in 4% LESS revenue loss.\n",
    "- Therefore, if KKBox wanted the greatest reduction in financial loss, churn should be minimized specifically for the customers on the $\\$$149 plan, because they make up the vast majority of users."
   ]
  },
  {
   "cell_type": "code",
   "execution_count": 39,
   "metadata": {},
   "outputs": [
    {
     "data": {
      "image/png": "[encoded data removed]",
      "text/plain": [
       "<Figure size 864x432 with 1 Axes>"
      ]
     },
     "metadata": {},
     "output_type": "display_data"
    }
   ],
   "source": [
    "ax = plans[['gross_revenue_percent', 'net_revenue_percent'\n",
    "           ]].plot(title='Share of Gross and Net Revenue Per Plan',\n",
    "                   kind='bar', figsize=(12, 6), grid=True, colormap='Set2',\n",
    "                   yticks=np.arange(0, 0.625, 0.05))\n",
    "ax.set_xlabel('Plan List Price')\n",
    "ax.set_ylabel('Proportion')\n",
    "ax.legend(['Gross Revenue', 'Net Revenue'])\n",
    "plt.savefig('../images/revenue_share.png', bbox_inches = \"tight\");"
   ]
  },
  {
   "cell_type": "code",
   "execution_count": 40,
   "metadata": {},
   "outputs": [],
   "source": [
    "# plans.to_csv('../data/plans.csv')"
   ]
  },
  {
   "cell_type": "code",
   "execution_count": 47,
   "metadata": {},
   "outputs": [
    {
     "data": {
      "text/plain": [
       "95.7165948275862"
      ]
     },
     "execution_count": 47,
     "metadata": {},
     "output_type": "execute_result"
    }
   ],
   "source": [
    "len(subset) / len(merged_df.groupby('msno')) * 100"
   ]
  }
 ],
 "metadata": {
  "kernelspec": {
   "display_name": "Python 3",
   "language": "python",
   "name": "python3"
  },
  "language_info": {
   "codemirror_mode": {
    "name": "ipython",
    "version": 3
   },
   "file_extension": ".py",
   "mimetype": "text/x-python",
   "name": "python",
   "nbconvert_exporter": "python",
   "pygments_lexer": "ipython3",
   "version": "3.7.6"
  },
  "toc": {
   "base_numbering": 1,
   "nav_menu": {},
   "number_sections": true,
   "sideBar": true,
   "skip_h1_title": true,
   "title_cell": "Table of Contents",
   "title_sidebar": "Contents",
   "toc_cell": false,
   "toc_position": {
    "height": "calc(100% - 180px)",
    "left": "10px",
    "top": "150px",
    "width": "165px"
   },
   "toc_section_display": true,
   "toc_window_display": true
  }
 },
 "nbformat": 4,
 "nbformat_minor": 4
}
